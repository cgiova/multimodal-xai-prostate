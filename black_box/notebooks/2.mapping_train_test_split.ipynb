{
 "cells": [
  {
   "metadata": {},
   "cell_type": "code",
   "outputs": [],
   "execution_count": null,
   "source": [
    "# Copyright 2025 Claudio Giovannoni, Carlo Metta, Anna Monreale,\n",
    "# Salvatore Rinzivillo, Andrea Berti, Sara Colantonio, and\n",
    "# Francesca Pratesi\n",
    "#\n",
    "# Licensed under the Apache License, Version 2.0 (the \"License\");\n",
    "# you may not use this file except in compliance with the License.\n",
    "# You may obtain a copy of the License at\n",
    "#\n",
    "#     http://www.apache.org/licenses/LICENSE-2.0\n",
    "#\n",
    "# Unless required by applicable law or agreed to in writing, software\n",
    "# distributed under the License is distributed on an \"AS IS\" BASIS,\n",
    "# WITHOUT WARRANTIES OR CONDITIONS OF ANY KIND, either express or implied.\n",
    "# See the License for the specific language governing permissions and\n",
    "# limitations under the License."
   ]
  },
  {
   "metadata": {},
   "cell_type": "markdown",
   "source": "# Data Mapping and Train/Validation/Test Split"
  },
  {
   "cell_type": "code",
   "execution_count": null,
   "metadata": {
    "colab": {
     "base_uri": "https://localhost:8080/"
    },
    "executionInfo": {
     "elapsed": 24192,
     "status": "ok",
     "timestamp": 1700069519122,
     "user": {
      "displayName": "claudio giovannoni",
      "userId": "16814477495340547867"
     },
     "user_tz": -60
    },
    "id": "VSvLYqitODBd",
    "outputId": "72be1742-ead9-4a46-a4c1-82f48d81f179"
   },
   "outputs": [
    {
     "output_type": "stream",
     "name": "stdout",
     "text": [
      "Mounted at /content/drive\n"
     ]
    }
   ],
   "source": [
    "import pandas as pd\n",
    "import os\n",
    "import sys"
   ]
  },
  {
   "metadata": {},
   "cell_type": "code",
   "outputs": [],
   "execution_count": null,
   "source": [
    "# when using google colaboratory\n",
    "from google.colab import drive\n",
    "drive.mount('/content/drive')\n",
    "sys.path.append('/content/drive/MyDrive/ABELE_prostate/claudio/black_box/code/')\n",
    "import crop_data_utils\n",
    "import mapping_train_test_split_utils"
   ]
  },
  {
   "metadata": {},
   "cell_type": "code",
   "outputs": [],
   "execution_count": null,
   "source": [
    "sys.path.append(os.path.abspath('code'))\n",
    "import black_box.code.crop_data_utils\n",
    "import black_box.code.mapping_train_test_split_utils"
   ]
  },
  {
   "cell_type": "code",
   "execution_count": null,
   "metadata": {
    "id": "YQ2Jp3JsOVLt"
   },
   "outputs": [],
   "source": [
    "source_root = '/content/drive/My Drive/ABELE_prostate/claudio/black_box/data/PICAI_crop/prostate_centered/'\n",
    "destination_root = '/content/drive/My Drive/ABELE_prostate/claudio/black_box/data/CSV/prostate_centered/'\n",
    "destination_root_train = '/content/drive/My Drive/ABELE_prostate/claudio/black_box/data/CSV/prostate_centered/train/'\n",
    "destination_root_valid = '/content/drive/My Drive/ABELE_prostate/claudio/black_box/data/CSV/prostate_centered/valid/'\n",
    "destination_root_test = '/content/drive/My Drive/ABELE_prostate/claudio/black_box/data/CSV/prostate_centered/test/'"
   ]
  },
  {
   "cell_type": "code",
   "execution_count": null,
   "metadata": {
    "colab": {
     "base_uri": "https://localhost:8080/"
    },
    "executionInfo": {
     "elapsed": 65244,
     "status": "ok",
     "timestamp": 1699872917219,
     "user": {
      "displayName": "claudio giovannoni",
      "userId": "16814477495340547867"
     },
     "user_tz": -60
    },
    "id": "g-GstgE1Ifw2",
    "outputId": "026e20da-6318-4fe5-9e3c-d8f5ac42412b"
   },
   "outputs": [
    {
     "output_type": "stream",
     "name": "stderr",
     "text": [
      "1428it [01:05, 21.93it/s] "
     ]
    },
    {
     "output_type": "stream",
     "name": "stdout",
     "text": [
      "\n",
      "Total number of patient folders: 1427\n",
      "Total number of patient files: 21222\n",
      "Total size of d: 0.10 Gigabytes\n"
     ]
    },
    {
     "output_type": "stream",
     "name": "stderr",
     "text": [
      "\n"
     ]
    }
   ],
   "source": [
    "crop_data_utils.file_checker(source_root)"
   ]
  },
  {
   "cell_type": "markdown",
   "metadata": {
    "id": "qiJ1sAziShOp"
   },
   "source": [
    "# Mapping"
   ]
  },
  {
   "cell_type": "code",
   "execution_count": null,
   "metadata": {
    "colab": {
     "base_uri": "https://localhost:8080/",
     "height": 224
    },
    "executionInfo": {
     "elapsed": 794,
     "status": "ok",
     "timestamp": 1699873172546,
     "user": {
      "displayName": "claudio giovannoni",
      "userId": "16814477495340547867"
     },
     "user_tz": -60
    },
    "id": "-1R4MGDr7VLj",
    "outputId": "3baf2492-5618-4303-fef6-06653080eb8f"
   },
   "outputs": [
    {
     "output_type": "stream",
     "name": "stdout",
     "text": [
      "(1500, 12)\n"
     ]
    },
    {
     "output_type": "execute_result",
     "data": {
      "text/plain": [
       "   patient_id  study_id    mri_date  patient_age   psa  psad  prostate_volume  \\\n",
       "0       10000   1000000  2019-07-02           73   7.7   NaN             55.0   \n",
       "1       10001   1000001  2016-05-27           64   8.7  0.09            102.0   \n",
       "2       10002   1000002  2021-04-18           58   4.2  0.06             74.0   \n",
       "3       10003   1000003  2019-04-05           72  13.0   NaN             71.5   \n",
       "4       10004   1000004  2020-10-21           67   8.0  0.10             78.0   \n",
       "\n",
       "  histopath_type lesion_GS lesion_ISUP  case_ISUP case_csPCa  \n",
       "0           MRBx       0+0           0          0         NO  \n",
       "1            NaN       NaN         NaN          0         NO  \n",
       "2            NaN       NaN         NaN          0         NO  \n",
       "3          SysBx       0+0           0          0         NO  \n",
       "4     SysBx+MRBx   0+0,0+0         0,0          0         NO  "
      ],
      "text/html": [
       "\n",
       "  <div id=\"df-b0fad613-271b-4116-aeef-09bcfd9e74c5\" class=\"colab-df-container\">\n",
       "    <div>\n",
       "<style scoped>\n",
       "    .dataframe tbody tr th:only-of-type {\n",
       "        vertical-align: middle;\n",
       "    }\n",
       "\n",
       "    .dataframe tbody tr th {\n",
       "        vertical-align: top;\n",
       "    }\n",
       "\n",
       "    .dataframe thead th {\n",
       "        text-align: right;\n",
       "    }\n",
       "</style>\n",
       "<table border=\"1\" class=\"dataframe\">\n",
       "  <thead>\n",
       "    <tr style=\"text-align: right;\">\n",
       "      <th></th>\n",
       "      <th>patient_id</th>\n",
       "      <th>study_id</th>\n",
       "      <th>mri_date</th>\n",
       "      <th>patient_age</th>\n",
       "      <th>psa</th>\n",
       "      <th>psad</th>\n",
       "      <th>prostate_volume</th>\n",
       "      <th>histopath_type</th>\n",
       "      <th>lesion_GS</th>\n",
       "      <th>lesion_ISUP</th>\n",
       "      <th>case_ISUP</th>\n",
       "      <th>case_csPCa</th>\n",
       "    </tr>\n",
       "  </thead>\n",
       "  <tbody>\n",
       "    <tr>\n",
       "      <th>0</th>\n",
       "      <td>10000</td>\n",
       "      <td>1000000</td>\n",
       "      <td>2019-07-02</td>\n",
       "      <td>73</td>\n",
       "      <td>7.7</td>\n",
       "      <td>NaN</td>\n",
       "      <td>55.0</td>\n",
       "      <td>MRBx</td>\n",
       "      <td>0+0</td>\n",
       "      <td>0</td>\n",
       "      <td>0</td>\n",
       "      <td>NO</td>\n",
       "    </tr>\n",
       "    <tr>\n",
       "      <th>1</th>\n",
       "      <td>10001</td>\n",
       "      <td>1000001</td>\n",
       "      <td>2016-05-27</td>\n",
       "      <td>64</td>\n",
       "      <td>8.7</td>\n",
       "      <td>0.09</td>\n",
       "      <td>102.0</td>\n",
       "      <td>NaN</td>\n",
       "      <td>NaN</td>\n",
       "      <td>NaN</td>\n",
       "      <td>0</td>\n",
       "      <td>NO</td>\n",
       "    </tr>\n",
       "    <tr>\n",
       "      <th>2</th>\n",
       "      <td>10002</td>\n",
       "      <td>1000002</td>\n",
       "      <td>2021-04-18</td>\n",
       "      <td>58</td>\n",
       "      <td>4.2</td>\n",
       "      <td>0.06</td>\n",
       "      <td>74.0</td>\n",
       "      <td>NaN</td>\n",
       "      <td>NaN</td>\n",
       "      <td>NaN</td>\n",
       "      <td>0</td>\n",
       "      <td>NO</td>\n",
       "    </tr>\n",
       "    <tr>\n",
       "      <th>3</th>\n",
       "      <td>10003</td>\n",
       "      <td>1000003</td>\n",
       "      <td>2019-04-05</td>\n",
       "      <td>72</td>\n",
       "      <td>13.0</td>\n",
       "      <td>NaN</td>\n",
       "      <td>71.5</td>\n",
       "      <td>SysBx</td>\n",
       "      <td>0+0</td>\n",
       "      <td>0</td>\n",
       "      <td>0</td>\n",
       "      <td>NO</td>\n",
       "    </tr>\n",
       "    <tr>\n",
       "      <th>4</th>\n",
       "      <td>10004</td>\n",
       "      <td>1000004</td>\n",
       "      <td>2020-10-21</td>\n",
       "      <td>67</td>\n",
       "      <td>8.0</td>\n",
       "      <td>0.10</td>\n",
       "      <td>78.0</td>\n",
       "      <td>SysBx+MRBx</td>\n",
       "      <td>0+0,0+0</td>\n",
       "      <td>0,0</td>\n",
       "      <td>0</td>\n",
       "      <td>NO</td>\n",
       "    </tr>\n",
       "  </tbody>\n",
       "</table>\n",
       "</div>\n",
       "    <div class=\"colab-df-buttons\">\n",
       "\n",
       "  <div class=\"colab-df-container\">\n",
       "    <button class=\"colab-df-convert\" onclick=\"convertToInteractive('df-b0fad613-271b-4116-aeef-09bcfd9e74c5')\"\n",
       "            title=\"Convert this dataframe to an interactive table.\"\n",
       "            style=\"display:none;\">\n",
       "\n",
       "  <svg xmlns=\"http://www.w3.org/2000/svg\" height=\"24px\" viewBox=\"0 -960 960 960\">\n",
       "    <path d=\"M120-120v-720h720v720H120Zm60-500h600v-160H180v160Zm220 220h160v-160H400v160Zm0 220h160v-160H400v160ZM180-400h160v-160H180v160Zm440 0h160v-160H620v160ZM180-180h160v-160H180v160Zm440 0h160v-160H620v160Z\"/>\n",
       "  </svg>\n",
       "    </button>\n",
       "\n",
       "  <style>\n",
       "    .colab-df-container {\n",
       "      display:flex;\n",
       "      gap: 12px;\n",
       "    }\n",
       "\n",
       "    .colab-df-convert {\n",
       "      background-color: #E8F0FE;\n",
       "      border: none;\n",
       "      border-radius: 50%;\n",
       "      cursor: pointer;\n",
       "      display: none;\n",
       "      fill: #1967D2;\n",
       "      height: 32px;\n",
       "      padding: 0 0 0 0;\n",
       "      width: 32px;\n",
       "    }\n",
       "\n",
       "    .colab-df-convert:hover {\n",
       "      background-color: #E2EBFA;\n",
       "      box-shadow: 0px 1px 2px rgba(60, 64, 67, 0.3), 0px 1px 3px 1px rgba(60, 64, 67, 0.15);\n",
       "      fill: #174EA6;\n",
       "    }\n",
       "\n",
       "    .colab-df-buttons div {\n",
       "      margin-bottom: 4px;\n",
       "    }\n",
       "\n",
       "    [theme=dark] .colab-df-convert {\n",
       "      background-color: #3B4455;\n",
       "      fill: #D2E3FC;\n",
       "    }\n",
       "\n",
       "    [theme=dark] .colab-df-convert:hover {\n",
       "      background-color: #434B5C;\n",
       "      box-shadow: 0px 1px 3px 1px rgba(0, 0, 0, 0.15);\n",
       "      filter: drop-shadow(0px 1px 2px rgba(0, 0, 0, 0.3));\n",
       "      fill: #FFFFFF;\n",
       "    }\n",
       "  </style>\n",
       "\n",
       "    <script>\n",
       "      const buttonEl =\n",
       "        document.querySelector('#df-b0fad613-271b-4116-aeef-09bcfd9e74c5 button.colab-df-convert');\n",
       "      buttonEl.style.display =\n",
       "        google.colab.kernel.accessAllowed ? 'block' : 'none';\n",
       "\n",
       "      async function convertToInteractive(key) {\n",
       "        const element = document.querySelector('#df-b0fad613-271b-4116-aeef-09bcfd9e74c5');\n",
       "        const dataTable =\n",
       "          await google.colab.kernel.invokeFunction('convertToInteractive',\n",
       "                                                    [key], {});\n",
       "        if (!dataTable) return;\n",
       "\n",
       "        const docLinkHtml = 'Like what you see? Visit the ' +\n",
       "          '<a target=\"_blank\" href=https://colab.research.google.com/notebooks/data_table.ipynb>data table notebook</a>'\n",
       "          + ' to learn more about interactive tables.';\n",
       "        element.innerHTML = '';\n",
       "        dataTable['output_type'] = 'display_data';\n",
       "        await google.colab.output.renderOutput(dataTable, element);\n",
       "        const docLink = document.createElement('div');\n",
       "        docLink.innerHTML = docLinkHtml;\n",
       "        element.appendChild(docLink);\n",
       "      }\n",
       "    </script>\n",
       "  </div>\n",
       "\n",
       "\n",
       "<div id=\"df-0f502fac-0b5a-4bf3-a43e-4c825491ca45\">\n",
       "  <button class=\"colab-df-quickchart\" onclick=\"quickchart('df-0f502fac-0b5a-4bf3-a43e-4c825491ca45')\"\n",
       "            title=\"Suggest charts\"\n",
       "            style=\"display:none;\">\n",
       "\n",
       "<svg xmlns=\"http://www.w3.org/2000/svg\" height=\"24px\"viewBox=\"0 0 24 24\"\n",
       "     width=\"24px\">\n",
       "    <g>\n",
       "        <path d=\"M19 3H5c-1.1 0-2 .9-2 2v14c0 1.1.9 2 2 2h14c1.1 0 2-.9 2-2V5c0-1.1-.9-2-2-2zM9 17H7v-7h2v7zm4 0h-2V7h2v10zm4 0h-2v-4h2v4z\"/>\n",
       "    </g>\n",
       "</svg>\n",
       "  </button>\n",
       "\n",
       "<style>\n",
       "  .colab-df-quickchart {\n",
       "      --bg-color: #E8F0FE;\n",
       "      --fill-color: #1967D2;\n",
       "      --hover-bg-color: #E2EBFA;\n",
       "      --hover-fill-color: #174EA6;\n",
       "      --disabled-fill-color: #AAA;\n",
       "      --disabled-bg-color: #DDD;\n",
       "  }\n",
       "\n",
       "  [theme=dark] .colab-df-quickchart {\n",
       "      --bg-color: #3B4455;\n",
       "      --fill-color: #D2E3FC;\n",
       "      --hover-bg-color: #434B5C;\n",
       "      --hover-fill-color: #FFFFFF;\n",
       "      --disabled-bg-color: #3B4455;\n",
       "      --disabled-fill-color: #666;\n",
       "  }\n",
       "\n",
       "  .colab-df-quickchart {\n",
       "    background-color: var(--bg-color);\n",
       "    border: none;\n",
       "    border-radius: 50%;\n",
       "    cursor: pointer;\n",
       "    display: none;\n",
       "    fill: var(--fill-color);\n",
       "    height: 32px;\n",
       "    padding: 0;\n",
       "    width: 32px;\n",
       "  }\n",
       "\n",
       "  .colab-df-quickchart:hover {\n",
       "    background-color: var(--hover-bg-color);\n",
       "    box-shadow: 0 1px 2px rgba(60, 64, 67, 0.3), 0 1px 3px 1px rgba(60, 64, 67, 0.15);\n",
       "    fill: var(--button-hover-fill-color);\n",
       "  }\n",
       "\n",
       "  .colab-df-quickchart-complete:disabled,\n",
       "  .colab-df-quickchart-complete:disabled:hover {\n",
       "    background-color: var(--disabled-bg-color);\n",
       "    fill: var(--disabled-fill-color);\n",
       "    box-shadow: none;\n",
       "  }\n",
       "\n",
       "  .colab-df-spinner {\n",
       "    border: 2px solid var(--fill-color);\n",
       "    border-color: transparent;\n",
       "    border-bottom-color: var(--fill-color);\n",
       "    animation:\n",
       "      spin 1s steps(1) infinite;\n",
       "  }\n",
       "\n",
       "  @keyframes spin {\n",
       "    0% {\n",
       "      border-color: transparent;\n",
       "      border-bottom-color: var(--fill-color);\n",
       "      border-left-color: var(--fill-color);\n",
       "    }\n",
       "    20% {\n",
       "      border-color: transparent;\n",
       "      border-left-color: var(--fill-color);\n",
       "      border-top-color: var(--fill-color);\n",
       "    }\n",
       "    30% {\n",
       "      border-color: transparent;\n",
       "      border-left-color: var(--fill-color);\n",
       "      border-top-color: var(--fill-color);\n",
       "      border-right-color: var(--fill-color);\n",
       "    }\n",
       "    40% {\n",
       "      border-color: transparent;\n",
       "      border-right-color: var(--fill-color);\n",
       "      border-top-color: var(--fill-color);\n",
       "    }\n",
       "    60% {\n",
       "      border-color: transparent;\n",
       "      border-right-color: var(--fill-color);\n",
       "    }\n",
       "    80% {\n",
       "      border-color: transparent;\n",
       "      border-right-color: var(--fill-color);\n",
       "      border-bottom-color: var(--fill-color);\n",
       "    }\n",
       "    90% {\n",
       "      border-color: transparent;\n",
       "      border-bottom-color: var(--fill-color);\n",
       "    }\n",
       "  }\n",
       "</style>\n",
       "\n",
       "  <script>\n",
       "    async function quickchart(key) {\n",
       "      const quickchartButtonEl =\n",
       "        document.querySelector('#' + key + ' button');\n",
       "      quickchartButtonEl.disabled = true;  // To prevent multiple clicks.\n",
       "      quickchartButtonEl.classList.add('colab-df-spinner');\n",
       "      try {\n",
       "        const charts = await google.colab.kernel.invokeFunction(\n",
       "            'suggestCharts', [key], {});\n",
       "      } catch (error) {\n",
       "        console.error('Error during call to suggestCharts:', error);\n",
       "      }\n",
       "      quickchartButtonEl.classList.remove('colab-df-spinner');\n",
       "      quickchartButtonEl.classList.add('colab-df-quickchart-complete');\n",
       "    }\n",
       "    (() => {\n",
       "      let quickchartButtonEl =\n",
       "        document.querySelector('#df-0f502fac-0b5a-4bf3-a43e-4c825491ca45 button');\n",
       "      quickchartButtonEl.style.display =\n",
       "        google.colab.kernel.accessAllowed ? 'block' : 'none';\n",
       "    })();\n",
       "  </script>\n",
       "</div>\n",
       "    </div>\n",
       "  </div>\n"
      ]
     },
     "metadata": {},
     "execution_count": 7
    }
   ],
   "source": [
    "csv_path = '/content/drive/MyDrive/ABELE_prostate/PICAI_original/clinical_information/marksheet.csv'\n",
    "labels_df = pd.read_csv(csv_path)\n",
    "print(labels_df.shape)\n",
    "labels_df.head()"
   ]
  },
  {
   "cell_type": "markdown",
   "source": [
    "### csv analysis"
   ],
   "metadata": {
    "id": "c8OqDr3jR6vJ"
   }
  },
  {
   "cell_type": "code",
   "source": [
    "grouped_labels = labels_df['case_ISUP'].apply(lambda x: '0 and 1' if x in [0, 1] else 'others')\n",
    "print(grouped_labels.value_counts())"
   ],
   "metadata": {
    "colab": {
     "base_uri": "https://localhost:8080/"
    },
    "id": "wfAjguzi9bPk",
    "executionInfo": {
     "status": "ok",
     "timestamp": 1699873181047,
     "user_tz": -60,
     "elapsed": 380,
     "user": {
      "displayName": "claudio giovannoni",
      "userId": "16814477495340547867"
     }
    },
    "outputId": "67477810-f8db-41a0-a235-5af710d2b024"
   },
   "execution_count": null,
   "outputs": [
    {
     "output_type": "stream",
     "name": "stdout",
     "text": [
      "0 and 1    1075\n",
      "others      425\n",
      "Name: case_ISUP, dtype: int64\n"
     ]
    }
   ]
  },
  {
   "cell_type": "code",
   "source": [
    "print(labels_df['patient_id'].nunique(),'\\n')\n",
    "print(labels_df['case_csPCa'].value_counts(),'\\n')\n",
    "print(labels_df['case_csPCa'].value_counts()/len(labels_df)*100)"
   ],
   "metadata": {
    "id": "AZdANwb_IPMm"
   },
   "execution_count": null,
   "outputs": []
  },
  {
   "cell_type": "code",
   "source": [
    "patient_study_counts = labels_df['patient_id'].value_counts()\n",
    "with_changes = {}\n",
    "without_changes = {}\n",
    "for patient_id, study_count in patient_study_counts.items():\n",
    "    if study_count > 1:\n",
    "        patient_data = labels_df[labels_df['patient_id'] == patient_id]\n",
    "        unique_csPCa_values = patient_data['case_csPCa'].unique()\n",
    "        if len(unique_csPCa_values) > 1:\n",
    "            with_changes[patient_id] = study_count\n",
    "        else:\n",
    "            without_changes[patient_id] = study_count\n",
    "num_patients_with_changes = len(with_changes)\n",
    "num_patients_without_changes = len(without_changes)\n",
    "\n",
    "print(\"Patients with changes in case_csPCa:\")\n",
    "print(with_changes)\n",
    "print(\"Patients without changes in case_csPCa:\")\n",
    "print(without_changes)\n",
    "print(f\"Number of patients with changes: {num_patients_with_changes}\")\n",
    "print(f\"Number of patients without changes: {num_patients_without_changes}\")"
   ],
   "metadata": {
    "colab": {
     "base_uri": "https://localhost:8080/"
    },
    "id": "x3zgZENXITPO",
    "executionInfo": {
     "status": "ok",
     "timestamp": 1699873474661,
     "user_tz": -60,
     "elapsed": 396,
     "user": {
      "displayName": "claudio giovannoni",
      "userId": "16814477495340547867"
     }
    },
    "outputId": "b2da765f-73f1-45ca-9f64-d2fd774106eb"
   },
   "execution_count": null,
   "outputs": [
    {
     "output_type": "stream",
     "name": "stdout",
     "text": [
      "Patients with changes in case_csPCa:\n",
      "{10540: 2, 10490: 2, 10634: 2, 11054: 2, 10273: 2, 10548: 2}\n",
      "Patients without changes in case_csPCa:\n",
      "{10936: 3, 10281: 2, 10905: 2, 10576: 2, 10580: 2, 10629: 2, 10404: 2, 10129: 2, 10417: 2, 10153: 2, 10131: 2, 11059: 2, 11087: 2, 10512: 2, 11004: 2, 11383: 2, 10193: 2}\n",
      "Number of patients with changes: 6\n",
      "Number of patients without changes: 17\n"
     ]
    }
   ]
  },
  {
   "cell_type": "code",
   "source": [
    "# create new csv verision, keeping only most recent sutdy to avoid duplicates\n",
    "patient_labels_df = labels_df.copy()\n",
    "patient_labels_df['mri_date'] = pd.to_datetime(patient_labels_df['mri_date'])\n",
    "patient_labels_df = patient_labels_df.sort_values(by='mri_date', ascending=False)\n",
    "\n",
    "# Drop duplicates, keeping only the first occurrence (most recent study) for each patient_id\n",
    "patient_labels_df = patient_labels_df.drop_duplicates(subset='patient_id', keep='first')\n",
    "print(patient_labels_df.shape)\n",
    "print(patient_labels_df['patient_id'].nunique(),'\\n')\n",
    "print(patient_labels_df['case_csPCa'].value_counts(),'\\n')\n",
    "print(patient_labels_df['case_csPCa'].value_counts()/len(patient_labels_df)*100)"
   ],
   "metadata": {
    "id": "m5Sz8rCGR1wz",
    "colab": {
     "base_uri": "https://localhost:8080/"
    },
    "executionInfo": {
     "status": "ok",
     "timestamp": 1699873562681,
     "user_tz": -60,
     "elapsed": 259,
     "user": {
      "displayName": "claudio giovannoni",
      "userId": "16814477495340547867"
     }
    },
    "outputId": "3c27add3-4805-420a-9b76-eded6ee70fdc"
   },
   "execution_count": null,
   "outputs": [
    {
     "output_type": "stream",
     "name": "stdout",
     "text": [
      "(1476, 12)\n",
      "1476 \n",
      "\n",
      "NO     1051\n",
      "YES     425\n",
      "Name: case_csPCa, dtype: int64 \n",
      "\n",
      "NO     71.205962\n",
      "YES    28.794038\n",
      "Name: case_csPCa, dtype: float64\n"
     ]
    }
   ]
  },
  {
   "cell_type": "code",
   "execution_count": null,
   "metadata": {
    "id": "fO-_qPDYQgh5"
   },
   "outputs": [],
   "source": [
    "output_folder = '/content/drive/My Drive/ABELE_prostate/claudio/black_box/data/CSV/'\n",
    "os.makedirs(output_folder, exist_ok=True)\n",
    "patient_ids = []\n",
    "image_paths = []\n",
    "labels = []\n",
    "modalities = []\n",
    "\n",
    "# Iterate through each row in the CSV file\n",
    "for index, row in patient_labels_df.iterrows():\n",
    "    patient_id = row['patient_id']\n",
    "    case_csPCa = row['case_csPCa']\n",
    "    label = 0 if case_csPCa == 'NO' else 1\n",
    "    # Construct the relative image path based on patient ID and image type\n",
    "    patient_path = os.path.join(source_root,f\"{patient_id}\")\n",
    "    if os.path.exists(patient_path):\n",
    "        for image in os.listdir(patient_path):\n",
    "            image_path = os.path.join(patient_path, image)\n",
    "            _, _, image_type, _ = crop_data_utils.parse_image_filename(image, class_label=False)\n",
    "            patient_ids.append(patient_id)\n",
    "            image_paths.append(image_path)\n",
    "            labels.append(label)\n",
    "            modalities.append(image_type)\n",
    "# Create a DataFrame from the lists\n",
    "mapping_df = pd.DataFrame({\n",
    "    'patient_id': patient_ids,\n",
    "    'image_path': image_paths,\n",
    "    'label': labels,\n",
    "    'modality': modalities\n",
    "})\n",
    "# Save the mapping DataFrame as a CSV file\n",
    "mapping_csv_path = os.path.join(output_folder, 'mapping.csv')\n",
    "mapping_df.to_csv(mapping_csv_path, index=False)"
   ]
  },
  {
   "cell_type": "markdown",
   "metadata": {
    "id": "RHgYAfE1ibQL"
   },
   "source": [
    "# Dataset split"
   ]
  },
  {
   "cell_type": "code",
   "source": [
    "labeled_df = pd.read_csv('/content/drive/My Drive/ABELE_prostate/claudio/black_box/data/CSV/mapping.csv')\n",
    "label_counts = labeled_df['label'].value_counts().sort_index()\n",
    "total_samples = len(labeled_df)\n",
    "percentage_per_class = (label_counts / total_samples) * 100\n",
    "\n",
    "result_df = pd.DataFrame({\n",
    "    'Count': label_counts,\n",
    "    'Percentage': percentage_per_class\n",
    "}).sort_index()\n",
    "\n",
    "print(labeled_df,labeled_df['patient_id'].nunique(),result_df, sep=\"\\n\")"
   ],
   "metadata": {
    "colab": {
     "base_uri": "https://localhost:8080/"
    },
    "id": "nLCQir-Rinfy",
    "executionInfo": {
     "status": "ok",
     "timestamp": 1700069569929,
     "user_tz": -60,
     "elapsed": 864,
     "user": {
      "displayName": "claudio giovannoni",
      "userId": "16814477495340547867"
     }
    },
    "outputId": "5335f16d-7ce5-43e9-a6a4-0fe0d867ad61"
   },
   "execution_count": null,
   "outputs": [
    {
     "output_type": "stream",
     "name": "stdout",
     "text": [
      "       patient_id                                         image_path  label  \\\n",
      "0           11326  /content/drive/My Drive/ABELE_prostate/claudio...      0   \n",
      "1           11326  /content/drive/My Drive/ABELE_prostate/claudio...      0   \n",
      "2           11326  /content/drive/My Drive/ABELE_prostate/claudio...      0   \n",
      "3           11326  /content/drive/My Drive/ABELE_prostate/claudio...      0   \n",
      "4           11326  /content/drive/My Drive/ABELE_prostate/claudio...      0   \n",
      "...           ...                                                ...    ...   \n",
      "21217       10795  /content/drive/My Drive/ABELE_prostate/claudio...      0   \n",
      "21218       10795  /content/drive/My Drive/ABELE_prostate/claudio...      0   \n",
      "21219       10795  /content/drive/My Drive/ABELE_prostate/claudio...      0   \n",
      "21220       10795  /content/drive/My Drive/ABELE_prostate/claudio...      0   \n",
      "21221       10795  /content/drive/My Drive/ABELE_prostate/claudio...      0   \n",
      "\n",
      "      modality  \n",
      "0          adc  \n",
      "1          adc  \n",
      "2          adc  \n",
      "3          adc  \n",
      "4          adc  \n",
      "...        ...  \n",
      "21217      hbv  \n",
      "21218      hbv  \n",
      "21219      hbv  \n",
      "21220      hbv  \n",
      "21221      hbv  \n",
      "\n",
      "[21222 rows x 4 columns]\n",
      "1426\n",
      "   Count  Percentage\n",
      "0  15288   72.038451\n",
      "1   5934   27.961549\n"
     ]
    }
   ]
  },
  {
   "cell_type": "markdown",
   "source": [
    "## train test split (NO validation)"
   ],
   "metadata": {
    "id": "Wb4gKwFOxGAq"
   }
  },
  {
   "cell_type": "code",
   "execution_count": null,
   "metadata": {
    "id": "8ecZGXgnia3_"
   },
   "outputs": [],
   "source": [
    "train_df, test_df = mapping_train_test_split_utils.custom_train_test_split(labeled_df,\n",
    "                                                                           test_size=0.2,\n",
    "                                                                           random_state=34)\n",
    "mapping_train_test_split_utils.check_dataframes(train_df,test_df)"
   ]
  },
  {
   "cell_type": "code",
   "execution_count": null,
   "metadata": {
    "colab": {
     "base_uri": "https://localhost:8080/"
    },
    "executionInfo": {
     "elapsed": 272,
     "status": "ok",
     "timestamp": 1699886279656,
     "user": {
      "displayName": "claudio giovannoni",
      "userId": "16814477495340547867"
     },
     "user_tz": -60
    },
    "id": "W3THlxBjjOYx",
    "outputId": "e0da68c7-24f6-4eae-c0e4-3ce735d0cfcb",
    "cellView": "form"
   },
   "outputs": [
    {
     "output_type": "stream",
     "name": "stdout",
     "text": [
      "train df shape: (16971, 4)\n",
      "test df shape: (4251, 4)\n"
     ]
    }
   ],
   "source": [
    "# @title export to gdrive\n",
    "df_path = '/content/drive/MyDrive/ABELE_prostate/claudio/black_box/data/CSV/dataframes/no_val/'\n",
    "traindf_path = '/content/drive/MyDrive/ABELE_prostate/claudio/black_box/data/CSV/dataframes/no_val/traindf.csv'\n",
    "testdf_path = '/content/drive/MyDrive/ABELE_prostate/claudio/black_box/data/CSV/dataframes/no_val/testdf.csv'\n",
    "os.makedirs(df_path, exist_ok=True)\n",
    "\n",
    "train_df.to_csv(traindf_path,index=False)\n",
    "test_df.to_csv(testdf_path,index=False)\n",
    "print('train df shape:',train_df.shape)\n",
    "print('test df shape:',test_df.shape)"
   ]
  },
  {
   "cell_type": "markdown",
   "metadata": {
    "id": "i6V3U8RHSjKW"
   },
   "source": [
    "## train test split (with validation)"
   ]
  },
  {
   "cell_type": "code",
   "execution_count": null,
   "metadata": {
    "colab": {
     "base_uri": "https://localhost:8080/"
    },
    "executionInfo": {
     "elapsed": 317,
     "status": "ok",
     "timestamp": 1700069601631,
     "user": {
      "displayName": "claudio giovannoni",
      "userId": "16814477495340547867"
     },
     "user_tz": -60
    },
    "id": "pwqfvWot8qtK",
    "outputId": "2c6308bd-0716-4c24-8695-4ce6213221c2"
   },
   "outputs": [
    {
     "output_type": "stream",
     "name": "stdout",
     "text": [
      "Total size: 21222\n",
      "Train dataframe size: 16971\n",
      "Validation dataframe size: 2125\n",
      "Test dataframe size: 2126\n",
      "Train dataframe unique IDs: 1140\n",
      "Validation dataframe unique IDs: 143\n",
      "Test dataframe unique IDs: 143 \n",
      "\n",
      "Train dataframe samples:     patient_id                                         image_path  label  \\\n",
      "30       10302  /content/drive/My Drive/ABELE_prostate/claudio...      0   \n",
      "31       10302  /content/drive/My Drive/ABELE_prostate/claudio...      0   \n",
      "32       10302  /content/drive/My Drive/ABELE_prostate/claudio...      0   \n",
      "33       10302  /content/drive/My Drive/ABELE_prostate/claudio...      0   \n",
      "34       10302  /content/drive/My Drive/ABELE_prostate/claudio...      0   \n",
      "\n",
      "   modality  \n",
      "30      adc  \n",
      "31      adc  \n",
      "32      adc  \n",
      "33      adc  \n",
      "34      adc   \n",
      "\n",
      "Validation dataframe samples:     patient_id                                         image_path  label  \\\n",
      "15       10965  /content/drive/My Drive/ABELE_prostate/claudio...      1   \n",
      "16       10965  /content/drive/My Drive/ABELE_prostate/claudio...      1   \n",
      "17       10965  /content/drive/My Drive/ABELE_prostate/claudio...      1   \n",
      "18       10965  /content/drive/My Drive/ABELE_prostate/claudio...      1   \n",
      "19       10965  /content/drive/My Drive/ABELE_prostate/claudio...      1   \n",
      "\n",
      "   modality  \n",
      "15      adc  \n",
      "16      adc  \n",
      "17      adc  \n",
      "18      adc  \n",
      "19      adc   \n",
      "\n",
      "Test dataframe samples:    patient_id                                         image_path  label  \\\n",
      "0       11326  /content/drive/My Drive/ABELE_prostate/claudio...      0   \n",
      "1       11326  /content/drive/My Drive/ABELE_prostate/claudio...      0   \n",
      "2       11326  /content/drive/My Drive/ABELE_prostate/claudio...      0   \n",
      "3       11326  /content/drive/My Drive/ABELE_prostate/claudio...      0   \n",
      "4       11326  /content/drive/My Drive/ABELE_prostate/claudio...      0   \n",
      "\n",
      "  modality  \n",
      "0      adc  \n",
      "1      adc  \n",
      "2      adc  \n",
      "3      adc  \n",
      "4      adc   \n",
      "\n",
      "No overlapping patient IDs between train and validation dataframes.\n",
      "No overlapping patient IDs between train and test dataframes.\n",
      "No overlapping patient IDs between validation and test dataframes.\n",
      "\n",
      "Class balance for dataframe 1:\n",
      "\n",
      "   Count  Percentage\n",
      "0  12257   72.223204\n",
      "1   4714   27.776796\n",
      "\n",
      "========================================\n",
      "\n",
      "\n",
      "Class balance for dataframe 2:\n",
      "\n",
      "   Count  Percentage\n",
      "0   1519    71.44873\n",
      "1    607    28.55127\n",
      "\n",
      "========================================\n",
      "\n",
      "\n",
      "Class balance for dataframe 3:\n",
      "\n",
      "   Count  Percentage\n",
      "0   1512   71.152941\n",
      "1    613   28.847059\n",
      "\n",
      "========================================\n",
      "\n"
     ]
    }
   ],
   "source": [
    "train_df, valid_df, test_df = mapping_train_test_split_utils.custom_train_test_split(labeled_df,\n",
    "                                                      test_size=0.2,\n",
    "                                                      val_size=0.5,\n",
    "                                                      random_state=34)\n",
    "\n",
    "mapping_train_test_split_utils.check_dataframes(train_df,test_df,valid_df)"
   ]
  },
  {
   "cell_type": "code",
   "execution_count": null,
   "metadata": {
    "colab": {
     "base_uri": "https://localhost:8080/"
    },
    "executionInfo": {
     "elapsed": 1343,
     "status": "ok",
     "timestamp": 1700069613624,
     "user": {
      "displayName": "claudio giovannoni",
      "userId": "16814477495340547867"
     },
     "user_tz": -60
    },
    "id": "XLxzowMn8qnG",
    "outputId": "c5fd77ca-42ba-47eb-eaaa-914d3d71be76"
   },
   "outputs": [
    {
     "output_type": "stream",
     "name": "stdout",
     "text": [
      "train df shape: (16971, 4)\n",
      "validation df shape: (2125, 4)\n",
      "test df shape: (2126, 4)\n"
     ]
    }
   ],
   "source": [
    "# @title export to gdrive\n",
    "df_path = '/content/drive/MyDrive/ABELE_prostate/claudio/black_box/data/CSV/dataframes/val/'\n",
    "traindf_path = '/content/drive/MyDrive/ABELE_prostate/claudio/black_box/data/CSV/dataframes/val/traindf.csv'\n",
    "valdf_path = '/content/drive/MyDrive/ABELE_prostate/claudio/black_box/data/CSV/dataframes/val/valdf.csv'\n",
    "testdf_path = '/content/drive/MyDrive/ABELE_prostate/claudio/black_box/data/CSV/dataframes/val/testdf.csv'\n",
    "os.makedirs(df_path, exist_ok=True)\n",
    "\n",
    "train_df.to_csv(traindf_path,index=False)\n",
    "valid_df.to_csv(valdf_path,index=False)\n",
    "test_df.to_csv(testdf_path,index=False)\n",
    "print('train df shape:',train_df.shape)\n",
    "print('validation df shape:',valid_df.shape)\n",
    "print('test df shape:',test_df.shape)"
   ]
  },
  {
   "cell_type": "markdown",
   "metadata": {
    "id": "t8q_RV_UjZIv"
   },
   "source": [
    "## Create Separate DF for each Image Modality"
   ]
  },
  {
   "cell_type": "code",
   "execution_count": null,
   "metadata": {
    "colab": {
     "base_uri": "https://localhost:8080/"
    },
    "executionInfo": {
     "elapsed": 419,
     "status": "ok",
     "timestamp": 1697644560867,
     "user": {
      "displayName": "claudio giovannoni",
      "userId": "16814477495340547867"
     },
     "user_tz": -120
    },
    "id": "MvSo7oJOKmoQ",
    "outputId": "8900bc0d-54d8-4fcc-cc87-598ef2531834"
   },
   "outputs": [
    {
     "output_type": "stream",
     "name": "stdout",
     "text": [
      "train ADC df shape: (6068, 4)\n",
      "valid ADC df shape: (725, 4)\n",
      "test ADC df shape: (742, 4)\n",
      "\n",
      "train T2W df shape: (6054, 4)\n",
      "valid T2w df shape: (744, 4)\n",
      "teset T2W df shape: (720, 4)\n",
      "\n",
      "train HBV df shape: (6092, 4)\n",
      "valid HBV df shape: (735, 4)\n",
      "teset HBV df shape: (742, 4)\n"
     ]
    }
   ],
   "source": [
    "# Read the original CSV files\n",
    "train_df = pd.read_csv(traindf_path)\n",
    "valid_df = pd.read_csv(valdf_path)\n",
    "test_df = pd.read_csv(testdf_path)\n",
    "\n",
    "# Create separate DataFrames for each modality\n",
    "train_df_adc = train_df[train_df['modality'] == 'adc']\n",
    "valid_df_adc = valid_df[valid_df['modality'] == 'adc']\n",
    "test_df_adc = test_df[test_df['modality'] == 'adc']\n",
    "\n",
    "train_df_t2w = train_df[train_df['modality'] == 't2w']\n",
    "valid_df_t2w = valid_df[valid_df['modality'] == 't2w']\n",
    "test_df_t2w = test_df[test_df['modality'] == 't2w']\n",
    "\n",
    "train_df_hbv = train_df[train_df['modality'] == 'hbv']\n",
    "valid_df_hbv = valid_df[valid_df['modality'] == 'hbv']\n",
    "test_df_hbv = test_df[test_df['modality'] == 'hbv']\n",
    "\n",
    "print('train ADC df shape:',train_df_adc.shape)\n",
    "print('valid ADC df shape:',valid_df_adc.shape)\n",
    "print('test ADC df shape:',test_df_adc.shape)\n",
    "print()\n",
    "print('train T2W df shape:',train_df_t2w.shape)\n",
    "print('valid T2w df shape:',valid_df_t2w.shape)\n",
    "print('teset T2W df shape:',test_df_t2w.shape)\n",
    "print()\n",
    "print('train HBV df shape:',train_df_hbv.shape)\n",
    "print('valid HBV df shape:',valid_df_hbv.shape)\n",
    "print('teset HBV df shape:',test_df_hbv.shape)"
   ]
  },
  {
   "cell_type": "code",
   "execution_count": null,
   "metadata": {
    "colab": {
     "base_uri": "https://localhost:8080/"
    },
    "executionInfo": {
     "elapsed": 451,
     "status": "ok",
     "timestamp": 1697644572189,
     "user": {
      "displayName": "claudio giovannoni",
      "userId": "16814477495340547867"
     },
     "user_tz": -120
    },
    "id": "mp8WxpVJVwur",
    "outputId": "933e61d5-c7e3-407c-d2f4-27fd6165d35a"
   },
   "outputs": [
    {
     "output_type": "stream",
     "name": "stdout",
     "text": [
      "Class balance for dataframe 1:\n",
      "\n",
      "   Count  Percentage\n",
      "0   4449   73.319051\n",
      "1   1619   26.680949\n",
      "\n",
      "========================================\n",
      "\n",
      "Class balance for dataframe 2:\n",
      "\n",
      "   Count  Percentage\n",
      "0    532   71.698113\n",
      "1    210   28.301887\n",
      "\n",
      "========================================\n",
      "\n",
      "Class balance for dataframe 3:\n",
      "\n",
      "   Count  Percentage\n",
      "0    527   72.689655\n",
      "1    198   27.310345\n",
      "\n",
      "========================================\n",
      "\n",
      "Class balance for dataframe 4:\n",
      "\n",
      "   Count  Percentage\n",
      "0   4436   73.273869\n",
      "1   1618   26.726131\n",
      "\n",
      "========================================\n",
      "\n",
      "Class balance for dataframe 5:\n",
      "\n",
      "   Count  Percentage\n",
      "0    520   72.222222\n",
      "1    200   27.777778\n",
      "\n",
      "========================================\n",
      "\n",
      "Class balance for dataframe 6:\n",
      "\n",
      "   Count  Percentage\n",
      "0    529   71.102151\n",
      "1    215   28.897849\n",
      "\n",
      "========================================\n",
      "\n",
      "Class balance for dataframe 7:\n",
      "\n",
      "   Count  Percentage\n",
      "0   4468   73.342088\n",
      "1   1624   26.657912\n",
      "\n",
      "========================================\n",
      "\n",
      "Class balance for dataframe 8:\n",
      "\n",
      "   Count  Percentage\n",
      "0    532   71.698113\n",
      "1    210   28.301887\n",
      "\n",
      "========================================\n",
      "\n",
      "Class balance for dataframe 9:\n",
      "\n",
      "   Count  Percentage\n",
      "0    527    71.70068\n",
      "1    208    28.29932\n",
      "\n",
      "========================================\n",
      "\n"
     ]
    }
   ],
   "source": [
    "# checking class distribution in the dfs\n",
    "dataframes = [train_df_adc, test_df_adc, valid_df_adc,\n",
    "              train_df_t2w, test_df_t2w, valid_df_t2w,\n",
    "              train_df_hbv, test_df_hbv, valid_df_hbv]\n",
    "\n",
    "for i, df in enumerate(dataframes):\n",
    "    label_counts = df['label'].value_counts().sort_index()\n",
    "    total_samples = len(df)\n",
    "\n",
    "    percentage_per_class = (label_counts / total_samples) * 100\n",
    "\n",
    "    result_df = pd.DataFrame({\n",
    "        'Count': label_counts,\n",
    "        'Percentage': percentage_per_class\n",
    "    }).sort_index()\n",
    "\n",
    "    print(f\"Class balance for dataframe {i + 1}:\\n\")\n",
    "    print(result_df)\n",
    "    print(\"\\n\" + \"=\" * 40 + \"\\n\")"
   ]
  },
  {
   "cell_type": "code",
   "execution_count": null,
   "metadata": {
    "id": "4LEUEbxHKrb9"
   },
   "outputs": [],
   "source": [
    "df_path_adc = '/content/drive/MyDrive/ABELE_prostate/claudio/black_box/data/CSV/prostate_centered/val/adc/'\n",
    "df_path_t2w = '/content/drive/MyDrive/ABELE_prostate/claudio/black_box/data/CSV/prostate_centered/val/t2w/'\n",
    "df_path_hbv = '/content/drive/MyDrive/ABELE_prostate/claudio/black_box/data/CSV/prostate_centered/val/hbv/'\n",
    "\n",
    "traindf_adc_path = os.path.join(df_path_adc,'traindf_adc.csv')\n",
    "valdf_adc_path = os.path.join(df_path_adc,'valdf_adc.csv')\n",
    "testdf_adc_path = os.path.join(df_path_adc,'testdf_adc.csv')\n",
    "\n",
    "traindf_t2w_path = os.path.join(df_path_t2w,'traindf_t2w.csv')\n",
    "valdf_t2w_path = os.path.join(df_path_t2w,'valdf_t2w.csv')\n",
    "testdf_t2w_path = os.path.join(df_path_t2w,'testdf_t2w.csv')\n",
    "\n",
    "traindf_hbv_path = os.path.join(df_path_hbv,'traindf_hbv.csv')\n",
    "valdf_hbv_path = os.path.join(df_path_hbv,'valdf_hbv.csv')\n",
    "testdf_hbv_path = os.path.join(df_path_hbv,'testdf_hbv.csv')\n",
    "\n",
    "os.makedirs(df_path_adc, exist_ok=True)\n",
    "os.makedirs(df_path_t2w, exist_ok=True)\n",
    "os.makedirs(df_path_hbv, exist_ok=True)\n",
    "\n",
    "train_df_adc.to_csv(traindf_adc_path,index=False)\n",
    "valid_df_adc.to_csv(valdf_adc_path,index=False)\n",
    "test_df_adc.to_csv(testdf_adc_path,index=False)\n",
    "\n",
    "train_df_t2w.to_csv(traindf_t2w_path,index=False)\n",
    "valid_df_t2w.to_csv(valdf_t2w_path,index=False)\n",
    "test_df_t2w.to_csv(testdf_t2w_path,index=False)\n",
    "\n",
    "train_df_hbv.to_csv(traindf_hbv_path,index=False)\n",
    "valid_df_hbv.to_csv(valdf_hbv_path,index=False)\n",
    "test_df_hbv.to_csv(testdf_hbv_path,index=False)"
   ]
  }
 ],
 "metadata": {
  "colab": {
   "provenance": [],
   "collapsed_sections": [
    "c8OqDr3jR6vJ",
    "Wb4gKwFOxGAq"
   ],
   "authorship_tag": "ABX9TyMzPYKo9kpElDWlo5QDWN3J"
  },
  "kernelspec": {
   "display_name": "Python 3",
   "name": "python3"
  },
  "language_info": {
   "name": "python"
  }
 },
 "nbformat": 4,
 "nbformat_minor": 0
}
