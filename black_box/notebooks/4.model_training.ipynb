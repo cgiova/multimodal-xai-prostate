{
 "cells": [
  {
   "metadata": {},
   "cell_type": "code",
   "outputs": [],
   "execution_count": null,
   "source": [
    "# Copyright 2025 Claudio Giovannoni, Carlo Metta, Anna Monreale,\n",
    "# Salvatore Rinzivillo, Andrea Berti, Sara Colantonio, and\n",
    "# Francesca Pratesi\n",
    "#\n",
    "# Licensed under the Apache License, Version 2.0 (the \"License\");\n",
    "# you may not use this file except in compliance with the License.\n",
    "# You may obtain a copy of the License at\n",
    "#\n",
    "#     http://www.apache.org/licenses/LICENSE-2.0\n",
    "#\n",
    "# Unless required by applicable law or agreed to in writing, software\n",
    "# distributed under the License is distributed on an \"AS IS\" BASIS,\n",
    "# WITHOUT WARRANTIES OR CONDITIONS OF ANY KIND, either express or implied.\n",
    "# See the License for the specific language governing permissions and\n",
    "# limitations under the License."
   ]
  },
  {
   "metadata": {},
   "cell_type": "markdown",
   "source": "# Model Training"
  },
  {
   "metadata": {},
   "cell_type": "code",
   "outputs": [],
   "execution_count": null,
   "source": [
    "import tensorflow as tf\n",
    "import keras\n",
    "import pandas as pd\n",
    "import numpy as np\n",
    "import os\n",
    "import cv2\n",
    "from google.colab import drive\n",
    "drive.mount('/content/drive')\n",
    "import shutil\n",
    "import matplotlib.pyplot as plt\n",
    "import sys\n",
    "from collections import Counter\n",
    "import re\n",
    "sys.path.append('/content/drive/MyDrive/ABELE_prostate/claudio/black_box/code/')\n",
    "import model_training_utils\n",
    "#from crop_data_utils import parse_image_filename"
   ]
  },
  {
   "cell_type": "markdown",
   "metadata": {
    "id": "muuF8vHNQho7"
   },
   "source": [
    "## Create local enviroment dataset"
   ]
  },
  {
   "cell_type": "code",
   "execution_count": null,
   "metadata": {
    "id": "n9_iaYG5RHWn",
    "colab": {
     "base_uri": "https://localhost:8080/"
    },
    "executionInfo": {
     "status": "ok",
     "timestamp": 1708643404390,
     "user_tz": -60,
     "elapsed": 15977,
     "user": {
      "displayName": "claudio giovannoni",
      "userId": "16814477495340547867"
     }
    },
    "outputId": "7a586a16-70de-419f-aa95-436c1065c80e"
   },
   "outputs": [
    {
     "output_type": "stream",
     "name": "stdout",
     "text": [
      "Train shape: (5597, 64, 64, 4)\n",
      "Validation shape: (700, 64, 64, 4)\n",
      "Test shape: (698, 64, 64, 4)\n",
      "\n",
      "Arrays successfully gathered\n"
     ]
    }
   ],
   "source": [
    "path = '/content/drive/MyDrive/ABELE_prostate/claudio/black_box/data/np_array/val/tabular_final'\n",
    "\n",
    "train_data_file = os.path.join(path,'X_train.npy')\n",
    "train_labels_file = os.path.join(path,'y_train.npy')\n",
    "\n",
    "valid_data_file = os.path.join(path,'X_valid.npy')\n",
    "valid_labels_file = os.path.join(path,'y_valid.npy')\n",
    "\n",
    "test_data_file = os.path.join(path,'X_test.npy')\n",
    "test_labels_file = os.path.join(path,'y_test.npy')\n",
    "\n",
    "# Load the arrays from the saved files\n",
    "X_train = np.load(train_data_file)\n",
    "y_train = np.load(train_labels_file)\n",
    "\n",
    "X_valid = np.load(valid_data_file)\n",
    "y_valid = np.load(valid_labels_file)\n",
    "\n",
    "X_test = np.load(test_data_file)\n",
    "y_test = np.load(test_labels_file)\n",
    "\n",
    "print(f'Train shape: {X_train.shape}')\n",
    "print(f'Validation shape: {X_valid.shape}')\n",
    "print(f'Test shape: {X_test.shape}')\n",
    "\n",
    "# standardize labels\n",
    "y_train = np.reshape(y_train, (-1, 1))\n",
    "y_valid = np.reshape(y_valid, (-1, 1))\n",
    "y_test = np.reshape(y_test, (-1, 1))\n",
    "\n",
    "print('\\nArrays successfully gathered')"
   ]
  },
  {
   "cell_type": "code",
   "execution_count": null,
   "metadata": {
    "colab": {
     "base_uri": "https://localhost:8080/"
    },
    "executionInfo": {
     "elapsed": 2327,
     "status": "ok",
     "timestamp": 1708643413149,
     "user": {
      "displayName": "claudio giovannoni",
      "userId": "16814477495340547867"
     },
     "user_tz": -60
    },
    "id": "200t2KWeQgjG",
    "outputId": "8ae99b5d-19da-4cf5-a2f3-60a00eda6fb1"
   },
   "outputs": [
    {
     "output_type": "stream",
     "name": "stdout",
     "text": [
      "Local Folders created\n"
     ]
    }
   ],
   "source": [
    "# define local folders\n",
    "env_folder_path = '/content/dataset'\n",
    "\n",
    "# copy data from external source to local environment\n",
    "try:\n",
    "    shutil.copytree(path,env_folder_path)\n",
    "    print(\"Local Folders created\")\n",
    "\n",
    "except Exception as ex:\n",
    "    print(f\"{ex}\")"
   ]
  },
  {
   "cell_type": "code",
   "execution_count": null,
   "metadata": {
    "colab": {
     "base_uri": "https://localhost:8080/"
    },
    "executionInfo": {
     "elapsed": 3,
     "status": "ok",
     "timestamp": 1708643415048,
     "user": {
      "displayName": "claudio giovannoni",
      "userId": "16814477495340547867"
     },
     "user_tz": -60
    },
    "id": "XEjIkzzsSJCf",
    "outputId": "c26302da-3a1e-4bb5-c5ea-e09100ad7449"
   },
   "outputs": [
    {
     "output_type": "stream",
     "name": "stdout",
     "text": [
      "Shape of X_train: (5597, 64, 64, 4)\n",
      "Shape of X_valid: (700, 64, 64, 4)\n",
      "Shape of X_test: (698, 64, 64, 4)\n"
     ]
    }
   ],
   "source": [
    "sets = [X_train, X_valid, X_test]\n",
    "shapes = [f\"Shape of X_{set_name}: {set_data.shape}\" for set_name, set_data in zip([\"train\", \"valid\", \"test\"], sets)]\n",
    "print(\"\\n\".join(shapes))"
   ]
  },
  {
   "cell_type": "code",
   "execution_count": null,
   "metadata": {
    "colab": {
     "base_uri": "https://localhost:8080/"
    },
    "executionInfo": {
     "elapsed": 1055,
     "status": "ok",
     "timestamp": 1708643499761,
     "user": {
      "displayName": "claudio giovannoni",
      "userId": "16814477495340547867"
     },
     "user_tz": -60
    },
    "id": "c9UhraFlSLu-",
    "outputId": "8fddeca4-e609-4969-97b9-119266c427d8"
   },
   "outputs": [
    {
     "output_type": "execute_result",
     "data": {
      "text/plain": [
       "<_BatchDataset element_spec=(TensorSpec(shape=(None, 64, 64, 4), dtype=tf.float32, name=None), TensorSpec(shape=(None,), dtype=tf.int64, name=None))>"
      ]
     },
     "metadata": {},
     "execution_count": 10
    }
   ],
   "source": [
    "input_shape = (64,64,4)\n",
    "\n",
    "train_data = tf.data.Dataset.from_tensor_slices((X_train, y_train))\n",
    "train_data = train_data.shuffle(buffer_size=len(X_train)).batch(batch_size=128)\n",
    "\n",
    "valid_data = tf.data.Dataset.from_tensor_slices((X_valid, y_valid))\n",
    "valid_data = valid_data.batch(batch_size=1)\n",
    "\n",
    "test_data = tf.data.Dataset.from_tensor_slices((X_test, y_test))\n",
    "test_data = test_data.batch(batch_size=1)\n",
    "\n",
    "train_data"
   ]
  },
  {
   "cell_type": "code",
   "execution_count": null,
   "metadata": {
    "id": "Eyu-PUYVTj3j"
   },
   "outputs": [],
   "source": [
    "import numpy as np\n",
    "from collections import Counter\n",
    "from imblearn.over_sampling import RandomOverSampler\n",
    "from imblearn.under_sampling import RandomUnderSampler\n",
    "\n",
    "def balance_dataset(X, y, method='oversample'):\n",
    "    \"\"\"\n",
    "    Balances the dataset by either undersampling or oversampling.\n",
    "\n",
    "    Parameters:\n",
    "    X (numpy.ndarray): Feature matrix.\n",
    "    y (numpy.ndarray): Target array.\n",
    "    method (str): Method to balance dataset ('undersample' or 'oversample').\n",
    "\n",
    "    Returns:\n",
    "    X_resampled (numpy.ndarray): Resampled feature matrix.\n",
    "    y_resampled (numpy.ndarray): Resampled target array.\n",
    "    \"\"\"\n",
    "\n",
    "    # Store the original sample dimension for later use\n",
    "    sample_dimension = X.shape[1:]\n",
    "\n",
    "    # Flatten X for resampling\n",
    "    X = X.reshape(X.shape[0], -1)\n",
    "\n",
    "    unique, counts = np.unique(y, return_counts=True)\n",
    "    print(\"Original dataset shape:\", dict(zip(unique, counts)))\n",
    "\n",
    "    if method == 'oversample':\n",
    "        resampler = RandomOverSampler(random_state=0)\n",
    "    elif method == 'undersample':\n",
    "        resampler = RandomUnderSampler(random_state=0)\n",
    "    else:\n",
    "        raise ValueError(\"Method must be 'oversample' or 'undersample'\")\n",
    "\n",
    "    X_resampled, y_resampled = resampler.fit_resample(X, y)\n",
    "\n",
    "    # Reshape X_resampled to have the original sample dimensions\n",
    "    X_resampled = X_resampled.reshape(-1, *sample_dimension)\n",
    "\n",
    "    unique_resampled, counts_resampled = np.unique(y_resampled, return_counts=True)\n",
    "    print(\"Resampled dataset shape:\", dict(zip(unique_resampled, counts_resampled)))\n",
    "\n",
    "    return X_resampled, y_resampled"
   ]
  },
  {
   "cell_type": "code",
   "execution_count": null,
   "metadata": {
    "id": "z39Bts5ZTcHb",
    "colab": {
     "base_uri": "https://localhost:8080/"
    },
    "executionInfo": {
     "status": "ok",
     "timestamp": 1708643550336,
     "user_tz": -60,
     "elapsed": 451,
     "user": {
      "displayName": "claudio giovannoni",
      "userId": "16814477495340547867"
     }
    },
    "outputId": "90c1a761-636a-419c-ed8f-69eb2ad79631"
   },
   "outputs": [
    {
     "output_type": "stream",
     "name": "stdout",
     "text": [
      "Original dataset shape: {0: 1552, 1: 1552}\n",
      "Resampled dataset shape: {0: 1552, 1: 1552}\n"
     ]
    }
   ],
   "source": [
    "X_train, y_train = balance_dataset(X_train, y_train, method='oversample')"
   ]
  },
  {
   "cell_type": "markdown",
   "metadata": {
    "id": "VORnHSZ1BbuV"
   },
   "source": [
    "# Model Building"
   ]
  },
  {
   "cell_type": "code",
   "execution_count": null,
   "metadata": {
    "id": "7JPPEiLaAy1_"
   },
   "outputs": [],
   "source": [
    "from keras.applications import ResNet50\n",
    "from keras.layers import Dense, GlobalAveragePooling2D, Input, Dropout\n",
    "from keras.models import Model\n",
    "\n",
    "def resnet(input_shape=input_shape, num_classes=1):\n",
    "    base_model = ResNet50(weights='imagenet', include_top=False, input_shape=input_shape)\n",
    "\n",
    "    # Freeze the weights of the pre-trained layers\n",
    "    for layer in base_model.layers:\n",
    "        layer.trainable = True\n",
    "\n",
    "    # custom classification layer\n",
    "    x = base_model.output\n",
    "    x = GlobalAveragePooling2D()(x)\n",
    "    x = Dense(128, activation='relu')(x)\n",
    "    x = Dropout(0.3)(x)\n",
    "    x = Dense(64, activation='relu')(x)\n",
    "    x = Dropout(0.3)(x)\n",
    "    outputs = Dense(num_classes, activation='sigmoid')(x)\n",
    "\n",
    "    # Create the final model\n",
    "    model = Model(inputs=base_model.input, outputs=outputs)\n",
    "\n",
    "    #alpha = 1e-5\n",
    "    #for layer in model.layers:\n",
    "        #if hasattr(layer, \"kernel_regularizer\"):\n",
    "            #layer.kernel_regularizer = tf.keras.regularizers.l2(alpha)\n",
    "\n",
    "    return model"
   ]
  },
  {
   "cell_type": "code",
   "execution_count": null,
   "metadata": {
    "id": "5nCCdoDerTke"
   },
   "outputs": [],
   "source": [
    "from keras.layers import Input, Conv2D, BatchNormalization, Activation, Add, GlobalAveragePooling2D, Dense\n",
    "from keras.regularizers import l2\n",
    "from keras.models import Model\n",
    "\n",
    "def residual_block(x, filters, stride=1, first_block=False):\n",
    "    weight_decay=1e-4\n",
    "\n",
    "    # Shortcut connection\n",
    "    shortcut = x\n",
    "\n",
    "    # First convolution layer\n",
    "    x = Conv2D(filters, kernel_size=(3, 3), strides=stride, padding='same', kernel_regularizer=l2(weight_decay))(x)\n",
    "    x = BatchNormalization()(x)\n",
    "    x = Activation('relu')(x)\n",
    "\n",
    "    # Second convolution layer\n",
    "    x = Conv2D(filters, kernel_size=(3, 3), padding='same', kernel_regularizer=l2(weight_decay))(x)\n",
    "    x = BatchNormalization()(x)\n",
    "\n",
    "    # Adjusting dimensions of the shortcut to match the main path\n",
    "    if first_block:\n",
    "        shortcut = Conv2D(filters, kernel_size=(1, 1), strides=stride, padding='same', kernel_regularizer=l2(weight_decay))(shortcut)\n",
    "        shortcut = BatchNormalization()(shortcut)\n",
    "\n",
    "    # Adding shortcut to the main path\n",
    "    x = Add()([x, shortcut])\n",
    "    x = Activation('relu')(x)\n",
    "\n",
    "    return x\n",
    "\n",
    "def resnet_v2_20(input_shape=input_shape, num_classes=1):\n",
    "    inputs = Input(shape=input_shape)\n",
    "    weight_decay=1e-4\n",
    "\n",
    "    # Initial convolution layer\n",
    "    x = Conv2D(16, kernel_size=(3, 3), padding='same', kernel_regularizer=l2(weight_decay))(inputs)\n",
    "    x = BatchNormalization()(x)\n",
    "    x = Activation('relu')(x)\n",
    "\n",
    "    # Stacking residual blocks\n",
    "    num_blocks = [3, 3, 3]\n",
    "    filters = [16, 32, 64]\n",
    "\n",
    "    for stage in range(3):\n",
    "        for block in range(num_blocks[stage]):\n",
    "            stride = 1\n",
    "            if stage > 0 and block == 0:\n",
    "                stride = 2\n",
    "\n",
    "            x = residual_block(x, filters[stage], stride=stride, first_block=(block == 0))\n",
    "\n",
    "    # Global average pooling\n",
    "    x = GlobalAveragePooling2D()(x)\n",
    "\n",
    "    # Fully connected layers for classification\n",
    "    x = Dense(256, activation='relu')(x)\n",
    "    x = Dense(num_classes, activation='sigmoid')(x)\n",
    "\n",
    "    model = Model(inputs, x, name='resnet_v2_20')\n",
    "    return model"
   ]
  },
  {
   "cell_type": "code",
   "execution_count": null,
   "metadata": {
    "id": "FJmvbc-un2ON"
   },
   "outputs": [],
   "source": [
    "from keras.layers import Input, Conv2D, BatchNormalization, Activation, MaxPooling2D, GlobalAveragePooling2D, Dense, Dropout, LeakyReLU\n",
    "from keras.models import Model\n",
    "\n",
    "def cnn(input_shape=input_shape, num_classes=1):\n",
    "    inputs = Input(shape=input_shape)\n",
    "\n",
    "    # Block 1\n",
    "    x = Conv2D(64, (3, 3), padding='same')(inputs)\n",
    "    x = BatchNormalization()(x)\n",
    "    x = LeakyReLU(alpha=0.3)(x)\n",
    "    x = MaxPooling2D((2, 2))(x)\n",
    "\n",
    "    # Block 2\n",
    "    x = Conv2D(128, (3, 3), padding='same')(x)\n",
    "    x = BatchNormalization()(x)\n",
    "    x = LeakyReLU(alpha=0.3)(x)\n",
    "    x = MaxPooling2D((2, 2))(x)\n",
    "\n",
    "    # Block 3\n",
    "    x = Conv2D(256, (3, 3), padding='same')(x)\n",
    "    x = BatchNormalization()(x)\n",
    "    x = LeakyReLU(alpha=0.3)(x)\n",
    "    x = MaxPooling2D((2, 2))(x)\n",
    "\n",
    "    # Global average pooling and dense layers\n",
    "    x = GlobalAveragePooling2D()(x)\n",
    "    x = Dropout(0.5)(x)\n",
    "    x = Dense(128)(x)\n",
    "    x = LeakyReLU(alpha=0.3)(x)\n",
    "    x = Dropout(0.3)(x)\n",
    "    outputs = Dense(num_classes, activation='sigmoid')(x)\n",
    "\n",
    "    model = Model(inputs, outputs)\n",
    "    return model"
   ]
  },
  {
   "cell_type": "code",
   "execution_count": null,
   "metadata": {
    "id": "vxCOFKGRIDfU"
   },
   "outputs": [],
   "source": [
    "# @title\n",
    "# Custom Weighted Binary Cross-Entropy Loss function\n",
    "from keras import backend as K\n",
    "from keras.backend import clip, log, mean\n",
    "\n",
    "def wbce(weight1, weight0):\n",
    "    def loss(y_true, y_pred):\n",
    "        y_true = K.cast(y_true, dtype='float32')\n",
    "        y_true = K.clip(y_true, K.epsilon(), 1 - K.epsilon())\n",
    "        y_pred = K.clip(y_pred, K.epsilon(), 1 - K.epsilon())\n",
    "        logloss = -(y_true * K.log(y_pred) * weight1 + (1 - y_true) * K.log(1 - y_pred) * weight0)\n",
    "        return K.mean(logloss, axis=-1)\n",
    "    return loss"
   ]
  },
  {
   "cell_type": "code",
   "execution_count": null,
   "metadata": {
    "id": "J7mPgZ9llCna"
   },
   "outputs": [],
   "source": [
    "# @title\n",
    "\n",
    "def scheduler(epoch, lr):\n",
    "    if epoch < 50:\n",
    "        return lr\n",
    "    elif epoch % 50 == 0:\n",
    "        lr *= 0.1\n",
    "        return lr\n",
    "    else:\n",
    "        return lr"
   ]
  },
  {
   "cell_type": "code",
   "execution_count": null,
   "metadata": {
    "id": "uMih6Y8GPxCf"
   },
   "outputs": [],
   "source": [
    "def scheduler(epoch, lr):\n",
    "    \"\"\"Learning Rate Schedule\n",
    "\n",
    "    Learning rate is scheduled to be reduced after 80, 120, 160, 180 epochs.\n",
    "    Called automatically every epoch as part of callbacks during training.\n",
    "\n",
    "    # Arguments\n",
    "        epoch (int): The number of epochs\n",
    "\n",
    "    # Returns\n",
    "        lr (float32): learning rate\n",
    "    \"\"\"\n",
    "    lr = 1e-3\n",
    "    if epoch > 160:\n",
    "        lr *= 0.5e-3\n",
    "    elif epoch > 120:\n",
    "        lr *= 1e-3\n",
    "    elif epoch > 80:\n",
    "        lr *= 1e-2\n",
    "    elif epoch > 40:\n",
    "        lr *= 1e-1\n",
    "    print('Learning rate: ', lr)\n",
    "    return lr"
   ]
  },
  {
   "cell_type": "code",
   "execution_count": null,
   "metadata": {
    "colab": {
     "base_uri": "https://localhost:8080/"
    },
    "executionInfo": {
     "elapsed": 453,
     "status": "ok",
     "timestamp": 1708643599187,
     "user": {
      "displayName": "claudio giovannoni",
      "userId": "16814477495340547867"
     },
     "user_tz": -60
    },
    "id": "UAtEAS5dsSK7",
    "outputId": "95304470-69a7-430d-e831-895910a9c913"
   },
   "outputs": [
    {
     "output_type": "stream",
     "name": "stdout",
     "text": [
      "Model: \"model\"\n",
      "_________________________________________________________________\n",
      " Layer (type)                Output Shape              Param #   \n",
      "=================================================================\n",
      " input_1 (InputLayer)        [(None, 64, 64, 4)]       0         \n",
      "                                                                 \n",
      " conv2d (Conv2D)             (None, 64, 64, 64)        2368      \n",
      "                                                                 \n",
      " batch_normalization (Batch  (None, 64, 64, 64)        256       \n",
      " Normalization)                                                  \n",
      "                                                                 \n",
      " leaky_re_lu (LeakyReLU)     (None, 64, 64, 64)        0         \n",
      "                                                                 \n",
      " max_pooling2d (MaxPooling2  (None, 32, 32, 64)        0         \n",
      " D)                                                              \n",
      "                                                                 \n",
      " conv2d_1 (Conv2D)           (None, 32, 32, 128)       73856     \n",
      "                                                                 \n",
      " batch_normalization_1 (Bat  (None, 32, 32, 128)       512       \n",
      " chNormalization)                                                \n",
      "                                                                 \n",
      " leaky_re_lu_1 (LeakyReLU)   (None, 32, 32, 128)       0         \n",
      "                                                                 \n",
      " max_pooling2d_1 (MaxPoolin  (None, 16, 16, 128)       0         \n",
      " g2D)                                                            \n",
      "                                                                 \n",
      " conv2d_2 (Conv2D)           (None, 16, 16, 256)       295168    \n",
      "                                                                 \n",
      " batch_normalization_2 (Bat  (None, 16, 16, 256)       1024      \n",
      " chNormalization)                                                \n",
      "                                                                 \n",
      " leaky_re_lu_2 (LeakyReLU)   (None, 16, 16, 256)       0         \n",
      "                                                                 \n",
      " max_pooling2d_2 (MaxPoolin  (None, 8, 8, 256)         0         \n",
      " g2D)                                                            \n",
      "                                                                 \n",
      " global_average_pooling2d (  (None, 256)               0         \n",
      " GlobalAveragePooling2D)                                         \n",
      "                                                                 \n",
      " dropout (Dropout)           (None, 256)               0         \n",
      "                                                                 \n",
      " dense (Dense)               (None, 128)               32896     \n",
      "                                                                 \n",
      " leaky_re_lu_3 (LeakyReLU)   (None, 128)               0         \n",
      "                                                                 \n",
      " dropout_1 (Dropout)         (None, 128)               0         \n",
      "                                                                 \n",
      " dense_1 (Dense)             (None, 1)                 129       \n",
      "                                                                 \n",
      "=================================================================\n",
      "Total params: 406209 (1.55 MB)\n",
      "Trainable params: 405313 (1.55 MB)\n",
      "Non-trainable params: 896 (3.50 KB)\n",
      "_________________________________________________________________\n"
     ]
    }
   ],
   "source": [
    "from keras.optimizers import Adam, SGD\n",
    "from keras.losses import binary_crossentropy\n",
    "\n",
    "num_classes = 1\n",
    "model = cnn()\n",
    "optimizer = SGD(learning_rate=1e-5, momentum = 0.9)\n",
    "loss = model_training_utils.wbce(7,3)\n",
    "\n",
    "model.compile(optimizer=optimizer,\n",
    "              loss=loss,\n",
    "              metrics=['accuracy', 'AUC'])\n",
    "model.summary()"
   ]
  },
  {
   "cell_type": "code",
   "execution_count": null,
   "metadata": {
    "colab": {
     "base_uri": "https://localhost:8080/",
     "height": 1000,
     "output_embedded_package_id": "1F16GcheS0u8ItGU-zSHR1Bg-dHjZkXtG"
    },
    "executionInfo": {
     "elapsed": 37830,
     "status": "ok",
     "timestamp": 1706866916026,
     "user": {
      "displayName": "claudio giovannoni",
      "userId": "16814477495340547867"
     },
     "user_tz": -60
    },
    "id": "Xn3Dq0YaK6-u",
    "outputId": "eb289928-5054-420b-9f76-84785aafd1c9"
   },
   "outputs": [
    {
     "output_type": "display_data",
     "data": {
      "text/plain": "Output hidden; open in https://colab.research.google.com to view."
     },
     "metadata": {}
    }
   ],
   "source": [
    "keras.utils.plot_model(model, to_file='model_plot.png', show_shapes=True, show_layer_names=True)"
   ]
  },
  {
   "cell_type": "markdown",
   "metadata": {
    "id": "1i7EOZHRM0fx"
   },
   "source": [
    "## Model Fitting"
   ]
  },
  {
   "cell_type": "code",
   "execution_count": null,
   "metadata": {
    "id": "IJKw-Pt0smS8"
   },
   "outputs": [],
   "source": [
    "# Define callbacks\n",
    "from keras.callbacks import LearningRateScheduler\n",
    "\n",
    "checkpoint_path = '/content/drive/MyDrive/ABELE_prostate/claudio/black_box/models/best_model_auc.h5'\n",
    "checkpoint = tf.keras.callbacks.ModelCheckpoint(filepath=checkpoint_path,\n",
    "                                                save_best_only=True,\n",
    "                                                monitor='val_auc',\n",
    "                                                mode='max')\n",
    "lr_scheduler = tf.keras.callbacks.LearningRateScheduler(model_training_utils.scheduler)"
   ]
  },
  {
   "cell_type": "code",
   "execution_count": null,
   "metadata": {
    "colab": {
     "base_uri": "https://localhost:8080/",
     "height": 619
    },
    "id": "JTA9mEgGNNoM",
    "executionInfo": {
     "status": "error",
     "timestamp": 1708643669344,
     "user_tz": -60,
     "elapsed": 61874,
     "user": {
      "displayName": "claudio giovannoni",
      "userId": "16814477495340547867"
     }
    },
    "outputId": "4ade7678-fcd1-45dd-fbcc-82e8907634c6"
   },
   "outputs": [
    {
     "output_type": "stream",
     "name": "stdout",
     "text": [
      "Epoch 1/200\n",
      "25/25 [==============================] - ETA: 0s - loss: 3.9156 - accuracy: 0.5190 - auc: 0.5084"
     ]
    },
    {
     "output_type": "stream",
     "name": "stderr",
     "text": [
      "/usr/local/lib/python3.10/dist-packages/keras/src/engine/training.py:3103: UserWarning: You are saving your model as an HDF5 file via `model.save()`. This file format is considered legacy. We recommend using instead the native Keras format, e.g. `model.save('my_model.keras')`.\n",
      "  saving_api.save_model(\n"
     ]
    },
    {
     "output_type": "stream",
     "name": "stdout",
     "text": [
      "\b\b\b\b\b\b\b\b\b\b\b\b\b\b\b\b\b\b\b\b\b\b\b\b\b\b\b\b\b\b\b\b\b\b\b\b\b\b\b\b\b\b\b\b\b\b\b\b\b\b\b\b\b\b\b\b\b\b\b\b\b\b\b\b\b\b\b\b\b\b\b\b\b\b\b\b\b\b\b\b\b\b\b\b\b\b\b\b\b\b\b\b\b\b\b\b\r25/25 [==============================] - 32s 918ms/step - loss: 3.9156 - accuracy: 0.5190 - auc: 0.5084 - val_loss: 2.9030 - val_accuracy: 0.7100 - val_auc: 0.5000 - lr: 1.0000e-05\n",
      "Epoch 2/200\n",
      "25/25 [==============================] - 3s 143ms/step - loss: 3.8361 - accuracy: 0.5100 - auc: 0.5111 - val_loss: 2.8960 - val_accuracy: 0.7100 - val_auc: 0.5050 - lr: 1.0000e-05\n",
      "Epoch 3/200\n",
      "25/25 [==============================] - 3s 111ms/step - loss: 3.7764 - accuracy: 0.5093 - auc: 0.5100 - val_loss: 2.8865 - val_accuracy: 0.7100 - val_auc: 0.5000 - lr: 1.0000e-05\n",
      "Epoch 4/200\n",
      "25/25 [==============================] - 4s 144ms/step - loss: 3.7870 - accuracy: 0.5029 - auc: 0.4972 - val_loss: 2.8827 - val_accuracy: 0.7100 - val_auc: 0.3946 - lr: 1.0000e-05\n",
      "Epoch 5/200\n",
      "25/25 [==============================] - 4s 145ms/step - loss: 3.7594 - accuracy: 0.5045 - auc: 0.5079 - val_loss: 2.8895 - val_accuracy: 0.2900 - val_auc: 0.5064 - lr: 1.0000e-05\n",
      "Epoch 6/200\n",
      "21/25 [========================>.....] - ETA: 0s - loss: 3.7641 - accuracy: 0.5097 - auc: 0.5062"
     ]
    },
    {
     "output_type": "error",
     "ename": "KeyboardInterrupt",
     "evalue": "",
     "traceback": [
      "\u001B[0;31m---------------------------------------------------------------------------\u001B[0m",
      "\u001B[0;31mKeyboardInterrupt\u001B[0m                         Traceback (most recent call last)",
      "\u001B[0;32m<ipython-input-23-56c7d030e9fe>\u001B[0m in \u001B[0;36m<cell line: 1>\u001B[0;34m()\u001B[0m\n\u001B[0;32m----> 1\u001B[0;31m history = model.fit(train_data,\n\u001B[0m\u001B[1;32m      2\u001B[0m                     \u001B[0mvalidation_data\u001B[0m\u001B[0;34m=\u001B[0m\u001B[0mvalid_data\u001B[0m\u001B[0;34m,\u001B[0m\u001B[0;34m\u001B[0m\u001B[0;34m\u001B[0m\u001B[0m\n\u001B[1;32m      3\u001B[0m                     \u001B[0mcallbacks\u001B[0m\u001B[0;34m=\u001B[0m\u001B[0;34m[\u001B[0m\u001B[0mlr_scheduler\u001B[0m\u001B[0;34m,\u001B[0m\u001B[0mcheckpoint\u001B[0m\u001B[0;34m]\u001B[0m\u001B[0;34m,\u001B[0m\u001B[0;34m\u001B[0m\u001B[0;34m\u001B[0m\u001B[0m\n\u001B[1;32m      4\u001B[0m                     epochs=200)\n\u001B[1;32m      5\u001B[0m \u001B[0;34m\u001B[0m\u001B[0m\n",
      "\u001B[0;32m/usr/local/lib/python3.10/dist-packages/keras/src/utils/traceback_utils.py\u001B[0m in \u001B[0;36merror_handler\u001B[0;34m(*args, **kwargs)\u001B[0m\n\u001B[1;32m     63\u001B[0m         \u001B[0mfiltered_tb\u001B[0m \u001B[0;34m=\u001B[0m \u001B[0;32mNone\u001B[0m\u001B[0;34m\u001B[0m\u001B[0;34m\u001B[0m\u001B[0m\n\u001B[1;32m     64\u001B[0m         \u001B[0;32mtry\u001B[0m\u001B[0;34m:\u001B[0m\u001B[0;34m\u001B[0m\u001B[0;34m\u001B[0m\u001B[0m\n\u001B[0;32m---> 65\u001B[0;31m             \u001B[0;32mreturn\u001B[0m \u001B[0mfn\u001B[0m\u001B[0;34m(\u001B[0m\u001B[0;34m*\u001B[0m\u001B[0margs\u001B[0m\u001B[0;34m,\u001B[0m \u001B[0;34m**\u001B[0m\u001B[0mkwargs\u001B[0m\u001B[0;34m)\u001B[0m\u001B[0;34m\u001B[0m\u001B[0;34m\u001B[0m\u001B[0m\n\u001B[0m\u001B[1;32m     66\u001B[0m         \u001B[0;32mexcept\u001B[0m \u001B[0mException\u001B[0m \u001B[0;32mas\u001B[0m \u001B[0me\u001B[0m\u001B[0;34m:\u001B[0m\u001B[0;34m\u001B[0m\u001B[0;34m\u001B[0m\u001B[0m\n\u001B[1;32m     67\u001B[0m             \u001B[0mfiltered_tb\u001B[0m \u001B[0;34m=\u001B[0m \u001B[0m_process_traceback_frames\u001B[0m\u001B[0;34m(\u001B[0m\u001B[0me\u001B[0m\u001B[0;34m.\u001B[0m\u001B[0m__traceback__\u001B[0m\u001B[0;34m)\u001B[0m\u001B[0;34m\u001B[0m\u001B[0;34m\u001B[0m\u001B[0m\n",
      "\u001B[0;32m/usr/local/lib/python3.10/dist-packages/keras/src/engine/training.py\u001B[0m in \u001B[0;36mfit\u001B[0;34m(self, x, y, batch_size, epochs, verbose, callbacks, validation_split, validation_data, shuffle, class_weight, sample_weight, initial_epoch, steps_per_epoch, validation_steps, validation_batch_size, validation_freq, max_queue_size, workers, use_multiprocessing)\u001B[0m\n\u001B[1;32m   1811\u001B[0m                             \u001B[0mlogs\u001B[0m \u001B[0;34m=\u001B[0m \u001B[0mtmp_logs\u001B[0m\u001B[0;34m\u001B[0m\u001B[0;34m\u001B[0m\u001B[0m\n\u001B[1;32m   1812\u001B[0m                             \u001B[0mend_step\u001B[0m \u001B[0;34m=\u001B[0m \u001B[0mstep\u001B[0m \u001B[0;34m+\u001B[0m \u001B[0mdata_handler\u001B[0m\u001B[0;34m.\u001B[0m\u001B[0mstep_increment\u001B[0m\u001B[0;34m\u001B[0m\u001B[0;34m\u001B[0m\u001B[0m\n\u001B[0;32m-> 1813\u001B[0;31m                             \u001B[0mcallbacks\u001B[0m\u001B[0;34m.\u001B[0m\u001B[0mon_train_batch_end\u001B[0m\u001B[0;34m(\u001B[0m\u001B[0mend_step\u001B[0m\u001B[0;34m,\u001B[0m \u001B[0mlogs\u001B[0m\u001B[0;34m)\u001B[0m\u001B[0;34m\u001B[0m\u001B[0;34m\u001B[0m\u001B[0m\n\u001B[0m\u001B[1;32m   1814\u001B[0m                             \u001B[0;32mif\u001B[0m \u001B[0mself\u001B[0m\u001B[0;34m.\u001B[0m\u001B[0mstop_training\u001B[0m\u001B[0;34m:\u001B[0m\u001B[0;34m\u001B[0m\u001B[0;34m\u001B[0m\u001B[0m\n\u001B[1;32m   1815\u001B[0m                                 \u001B[0;32mbreak\u001B[0m\u001B[0;34m\u001B[0m\u001B[0;34m\u001B[0m\u001B[0m\n",
      "\u001B[0;32m/usr/local/lib/python3.10/dist-packages/keras/src/callbacks.py\u001B[0m in \u001B[0;36mon_train_batch_end\u001B[0;34m(self, batch, logs)\u001B[0m\n\u001B[1;32m    473\u001B[0m         \"\"\"\n\u001B[1;32m    474\u001B[0m         \u001B[0;32mif\u001B[0m \u001B[0mself\u001B[0m\u001B[0;34m.\u001B[0m\u001B[0m_should_call_train_batch_hooks\u001B[0m\u001B[0;34m:\u001B[0m\u001B[0;34m\u001B[0m\u001B[0;34m\u001B[0m\u001B[0m\n\u001B[0;32m--> 475\u001B[0;31m             \u001B[0mself\u001B[0m\u001B[0;34m.\u001B[0m\u001B[0m_call_batch_hook\u001B[0m\u001B[0;34m(\u001B[0m\u001B[0mModeKeys\u001B[0m\u001B[0;34m.\u001B[0m\u001B[0mTRAIN\u001B[0m\u001B[0;34m,\u001B[0m \u001B[0;34m\"end\"\u001B[0m\u001B[0;34m,\u001B[0m \u001B[0mbatch\u001B[0m\u001B[0;34m,\u001B[0m \u001B[0mlogs\u001B[0m\u001B[0;34m=\u001B[0m\u001B[0mlogs\u001B[0m\u001B[0;34m)\u001B[0m\u001B[0;34m\u001B[0m\u001B[0;34m\u001B[0m\u001B[0m\n\u001B[0m\u001B[1;32m    476\u001B[0m \u001B[0;34m\u001B[0m\u001B[0m\n\u001B[1;32m    477\u001B[0m     \u001B[0;32mdef\u001B[0m \u001B[0mon_test_batch_begin\u001B[0m\u001B[0;34m(\u001B[0m\u001B[0mself\u001B[0m\u001B[0;34m,\u001B[0m \u001B[0mbatch\u001B[0m\u001B[0;34m,\u001B[0m \u001B[0mlogs\u001B[0m\u001B[0;34m=\u001B[0m\u001B[0;32mNone\u001B[0m\u001B[0;34m)\u001B[0m\u001B[0;34m:\u001B[0m\u001B[0;34m\u001B[0m\u001B[0;34m\u001B[0m\u001B[0m\n",
      "\u001B[0;32m/usr/local/lib/python3.10/dist-packages/keras/src/callbacks.py\u001B[0m in \u001B[0;36m_call_batch_hook\u001B[0;34m(self, mode, hook, batch, logs)\u001B[0m\n\u001B[1;32m    320\u001B[0m             \u001B[0mself\u001B[0m\u001B[0;34m.\u001B[0m\u001B[0m_call_batch_begin_hook\u001B[0m\u001B[0;34m(\u001B[0m\u001B[0mmode\u001B[0m\u001B[0;34m,\u001B[0m \u001B[0mbatch\u001B[0m\u001B[0;34m,\u001B[0m \u001B[0mlogs\u001B[0m\u001B[0;34m)\u001B[0m\u001B[0;34m\u001B[0m\u001B[0;34m\u001B[0m\u001B[0m\n\u001B[1;32m    321\u001B[0m         \u001B[0;32melif\u001B[0m \u001B[0mhook\u001B[0m \u001B[0;34m==\u001B[0m \u001B[0;34m\"end\"\u001B[0m\u001B[0;34m:\u001B[0m\u001B[0;34m\u001B[0m\u001B[0;34m\u001B[0m\u001B[0m\n\u001B[0;32m--> 322\u001B[0;31m             \u001B[0mself\u001B[0m\u001B[0;34m.\u001B[0m\u001B[0m_call_batch_end_hook\u001B[0m\u001B[0;34m(\u001B[0m\u001B[0mmode\u001B[0m\u001B[0;34m,\u001B[0m \u001B[0mbatch\u001B[0m\u001B[0;34m,\u001B[0m \u001B[0mlogs\u001B[0m\u001B[0;34m)\u001B[0m\u001B[0;34m\u001B[0m\u001B[0;34m\u001B[0m\u001B[0m\n\u001B[0m\u001B[1;32m    323\u001B[0m         \u001B[0;32melse\u001B[0m\u001B[0;34m:\u001B[0m\u001B[0;34m\u001B[0m\u001B[0;34m\u001B[0m\u001B[0m\n\u001B[1;32m    324\u001B[0m             raise ValueError(\n",
      "\u001B[0;32m/usr/local/lib/python3.10/dist-packages/keras/src/callbacks.py\u001B[0m in \u001B[0;36m_call_batch_end_hook\u001B[0;34m(self, mode, batch, logs)\u001B[0m\n\u001B[1;32m    343\u001B[0m             \u001B[0mself\u001B[0m\u001B[0;34m.\u001B[0m\u001B[0m_batch_times\u001B[0m\u001B[0;34m.\u001B[0m\u001B[0mappend\u001B[0m\u001B[0;34m(\u001B[0m\u001B[0mbatch_time\u001B[0m\u001B[0;34m)\u001B[0m\u001B[0;34m\u001B[0m\u001B[0;34m\u001B[0m\u001B[0m\n\u001B[1;32m    344\u001B[0m \u001B[0;34m\u001B[0m\u001B[0m\n\u001B[0;32m--> 345\u001B[0;31m         \u001B[0mself\u001B[0m\u001B[0;34m.\u001B[0m\u001B[0m_call_batch_hook_helper\u001B[0m\u001B[0;34m(\u001B[0m\u001B[0mhook_name\u001B[0m\u001B[0;34m,\u001B[0m \u001B[0mbatch\u001B[0m\u001B[0;34m,\u001B[0m \u001B[0mlogs\u001B[0m\u001B[0;34m)\u001B[0m\u001B[0;34m\u001B[0m\u001B[0;34m\u001B[0m\u001B[0m\n\u001B[0m\u001B[1;32m    346\u001B[0m \u001B[0;34m\u001B[0m\u001B[0m\n\u001B[1;32m    347\u001B[0m         \u001B[0;32mif\u001B[0m \u001B[0mlen\u001B[0m\u001B[0;34m(\u001B[0m\u001B[0mself\u001B[0m\u001B[0;34m.\u001B[0m\u001B[0m_batch_times\u001B[0m\u001B[0;34m)\u001B[0m \u001B[0;34m>=\u001B[0m \u001B[0mself\u001B[0m\u001B[0;34m.\u001B[0m\u001B[0m_num_batches_for_timing_check\u001B[0m\u001B[0;34m:\u001B[0m\u001B[0;34m\u001B[0m\u001B[0;34m\u001B[0m\u001B[0m\n",
      "\u001B[0;32m/usr/local/lib/python3.10/dist-packages/keras/src/callbacks.py\u001B[0m in \u001B[0;36m_call_batch_hook_helper\u001B[0;34m(self, hook_name, batch, logs)\u001B[0m\n\u001B[1;32m    391\u001B[0m         \u001B[0;32mfor\u001B[0m \u001B[0mcallback\u001B[0m \u001B[0;32min\u001B[0m \u001B[0mself\u001B[0m\u001B[0;34m.\u001B[0m\u001B[0mcallbacks\u001B[0m\u001B[0;34m:\u001B[0m\u001B[0;34m\u001B[0m\u001B[0;34m\u001B[0m\u001B[0m\n\u001B[1;32m    392\u001B[0m             \u001B[0mhook\u001B[0m \u001B[0;34m=\u001B[0m \u001B[0mgetattr\u001B[0m\u001B[0;34m(\u001B[0m\u001B[0mcallback\u001B[0m\u001B[0;34m,\u001B[0m \u001B[0mhook_name\u001B[0m\u001B[0;34m)\u001B[0m\u001B[0;34m\u001B[0m\u001B[0;34m\u001B[0m\u001B[0m\n\u001B[0;32m--> 393\u001B[0;31m             \u001B[0mhook\u001B[0m\u001B[0;34m(\u001B[0m\u001B[0mbatch\u001B[0m\u001B[0;34m,\u001B[0m \u001B[0mlogs\u001B[0m\u001B[0;34m)\u001B[0m\u001B[0;34m\u001B[0m\u001B[0;34m\u001B[0m\u001B[0m\n\u001B[0m\u001B[1;32m    394\u001B[0m \u001B[0;34m\u001B[0m\u001B[0m\n\u001B[1;32m    395\u001B[0m         \u001B[0;32mif\u001B[0m \u001B[0mself\u001B[0m\u001B[0;34m.\u001B[0m\u001B[0m_check_timing\u001B[0m\u001B[0;34m:\u001B[0m\u001B[0;34m\u001B[0m\u001B[0;34m\u001B[0m\u001B[0m\n",
      "\u001B[0;32m/usr/local/lib/python3.10/dist-packages/keras/src/callbacks.py\u001B[0m in \u001B[0;36mon_train_batch_end\u001B[0;34m(self, batch, logs)\u001B[0m\n\u001B[1;32m   1091\u001B[0m \u001B[0;34m\u001B[0m\u001B[0m\n\u001B[1;32m   1092\u001B[0m     \u001B[0;32mdef\u001B[0m \u001B[0mon_train_batch_end\u001B[0m\u001B[0;34m(\u001B[0m\u001B[0mself\u001B[0m\u001B[0;34m,\u001B[0m \u001B[0mbatch\u001B[0m\u001B[0;34m,\u001B[0m \u001B[0mlogs\u001B[0m\u001B[0;34m=\u001B[0m\u001B[0;32mNone\u001B[0m\u001B[0;34m)\u001B[0m\u001B[0;34m:\u001B[0m\u001B[0;34m\u001B[0m\u001B[0;34m\u001B[0m\u001B[0m\n\u001B[0;32m-> 1093\u001B[0;31m         \u001B[0mself\u001B[0m\u001B[0;34m.\u001B[0m\u001B[0m_batch_update_progbar\u001B[0m\u001B[0;34m(\u001B[0m\u001B[0mbatch\u001B[0m\u001B[0;34m,\u001B[0m \u001B[0mlogs\u001B[0m\u001B[0;34m)\u001B[0m\u001B[0;34m\u001B[0m\u001B[0;34m\u001B[0m\u001B[0m\n\u001B[0m\u001B[1;32m   1094\u001B[0m \u001B[0;34m\u001B[0m\u001B[0m\n\u001B[1;32m   1095\u001B[0m     \u001B[0;32mdef\u001B[0m \u001B[0mon_test_batch_end\u001B[0m\u001B[0;34m(\u001B[0m\u001B[0mself\u001B[0m\u001B[0;34m,\u001B[0m \u001B[0mbatch\u001B[0m\u001B[0;34m,\u001B[0m \u001B[0mlogs\u001B[0m\u001B[0;34m=\u001B[0m\u001B[0;32mNone\u001B[0m\u001B[0;34m)\u001B[0m\u001B[0;34m:\u001B[0m\u001B[0;34m\u001B[0m\u001B[0;34m\u001B[0m\u001B[0m\n",
      "\u001B[0;32m/usr/local/lib/python3.10/dist-packages/keras/src/callbacks.py\u001B[0m in \u001B[0;36m_batch_update_progbar\u001B[0;34m(self, batch, logs)\u001B[0m\n\u001B[1;32m   1167\u001B[0m         \u001B[0;32mif\u001B[0m \u001B[0mself\u001B[0m\u001B[0;34m.\u001B[0m\u001B[0mverbose\u001B[0m \u001B[0;34m==\u001B[0m \u001B[0;36m1\u001B[0m\u001B[0;34m:\u001B[0m\u001B[0;34m\u001B[0m\u001B[0;34m\u001B[0m\u001B[0m\n\u001B[1;32m   1168\u001B[0m             \u001B[0;31m# Only block async when verbose = 1.\u001B[0m\u001B[0;34m\u001B[0m\u001B[0;34m\u001B[0m\u001B[0m\n\u001B[0;32m-> 1169\u001B[0;31m             \u001B[0mlogs\u001B[0m \u001B[0;34m=\u001B[0m \u001B[0mtf_utils\u001B[0m\u001B[0;34m.\u001B[0m\u001B[0msync_to_numpy_or_python_type\u001B[0m\u001B[0;34m(\u001B[0m\u001B[0mlogs\u001B[0m\u001B[0;34m)\u001B[0m\u001B[0;34m\u001B[0m\u001B[0;34m\u001B[0m\u001B[0m\n\u001B[0m\u001B[1;32m   1170\u001B[0m             \u001B[0mself\u001B[0m\u001B[0;34m.\u001B[0m\u001B[0mprogbar\u001B[0m\u001B[0;34m.\u001B[0m\u001B[0mupdate\u001B[0m\u001B[0;34m(\u001B[0m\u001B[0mself\u001B[0m\u001B[0;34m.\u001B[0m\u001B[0mseen\u001B[0m\u001B[0;34m,\u001B[0m \u001B[0mlist\u001B[0m\u001B[0;34m(\u001B[0m\u001B[0mlogs\u001B[0m\u001B[0;34m.\u001B[0m\u001B[0mitems\u001B[0m\u001B[0;34m(\u001B[0m\u001B[0;34m)\u001B[0m\u001B[0;34m)\u001B[0m\u001B[0;34m,\u001B[0m \u001B[0mfinalize\u001B[0m\u001B[0;34m=\u001B[0m\u001B[0;32mFalse\u001B[0m\u001B[0;34m)\u001B[0m\u001B[0;34m\u001B[0m\u001B[0;34m\u001B[0m\u001B[0m\n\u001B[1;32m   1171\u001B[0m \u001B[0;34m\u001B[0m\u001B[0m\n",
      "\u001B[0;32m/usr/local/lib/python3.10/dist-packages/keras/src/utils/tf_utils.py\u001B[0m in \u001B[0;36msync_to_numpy_or_python_type\u001B[0;34m(tensors)\u001B[0m\n\u001B[1;32m    692\u001B[0m         \u001B[0;32mreturn\u001B[0m \u001B[0mt\u001B[0m\u001B[0;34m.\u001B[0m\u001B[0mitem\u001B[0m\u001B[0;34m(\u001B[0m\u001B[0;34m)\u001B[0m \u001B[0;32mif\u001B[0m \u001B[0mnp\u001B[0m\u001B[0;34m.\u001B[0m\u001B[0mndim\u001B[0m\u001B[0;34m(\u001B[0m\u001B[0mt\u001B[0m\u001B[0;34m)\u001B[0m \u001B[0;34m==\u001B[0m \u001B[0;36m0\u001B[0m \u001B[0;32melse\u001B[0m \u001B[0mt\u001B[0m\u001B[0;34m\u001B[0m\u001B[0;34m\u001B[0m\u001B[0m\n\u001B[1;32m    693\u001B[0m \u001B[0;34m\u001B[0m\u001B[0m\n\u001B[0;32m--> 694\u001B[0;31m     \u001B[0;32mreturn\u001B[0m \u001B[0mtf\u001B[0m\u001B[0;34m.\u001B[0m\u001B[0mnest\u001B[0m\u001B[0;34m.\u001B[0m\u001B[0mmap_structure\u001B[0m\u001B[0;34m(\u001B[0m\u001B[0m_to_single_numpy_or_python_type\u001B[0m\u001B[0;34m,\u001B[0m \u001B[0mtensors\u001B[0m\u001B[0;34m)\u001B[0m\u001B[0;34m\u001B[0m\u001B[0;34m\u001B[0m\u001B[0m\n\u001B[0m\u001B[1;32m    695\u001B[0m \u001B[0;34m\u001B[0m\u001B[0m\n\u001B[1;32m    696\u001B[0m \u001B[0;34m\u001B[0m\u001B[0m\n",
      "\u001B[0;32m/usr/local/lib/python3.10/dist-packages/tensorflow/python/util/nest.py\u001B[0m in \u001B[0;36mmap_structure\u001B[0;34m(func, *structure, **kwargs)\u001B[0m\n\u001B[1;32m    629\u001B[0m     \u001B[0mValueError\u001B[0m\u001B[0;34m:\u001B[0m \u001B[0mIf\u001B[0m \u001B[0mwrong\u001B[0m \u001B[0mkeyword\u001B[0m \u001B[0marguments\u001B[0m \u001B[0mare\u001B[0m \u001B[0mprovided\u001B[0m\u001B[0;34m.\u001B[0m\u001B[0;34m\u001B[0m\u001B[0;34m\u001B[0m\u001B[0m\n\u001B[1;32m    630\u001B[0m   \"\"\"\n\u001B[0;32m--> 631\u001B[0;31m   return nest_util.map_structure(\n\u001B[0m\u001B[1;32m    632\u001B[0m       \u001B[0mnest_util\u001B[0m\u001B[0;34m.\u001B[0m\u001B[0mModality\u001B[0m\u001B[0;34m.\u001B[0m\u001B[0mCORE\u001B[0m\u001B[0;34m,\u001B[0m \u001B[0mfunc\u001B[0m\u001B[0;34m,\u001B[0m \u001B[0;34m*\u001B[0m\u001B[0mstructure\u001B[0m\u001B[0;34m,\u001B[0m \u001B[0;34m**\u001B[0m\u001B[0mkwargs\u001B[0m\u001B[0;34m\u001B[0m\u001B[0;34m\u001B[0m\u001B[0m\n\u001B[1;32m    633\u001B[0m   )\n",
      "\u001B[0;32m/usr/local/lib/python3.10/dist-packages/tensorflow/python/util/nest_util.py\u001B[0m in \u001B[0;36mmap_structure\u001B[0;34m(modality, func, *structure, **kwargs)\u001B[0m\n\u001B[1;32m   1064\u001B[0m   \"\"\"\n\u001B[1;32m   1065\u001B[0m   \u001B[0;32mif\u001B[0m \u001B[0mmodality\u001B[0m \u001B[0;34m==\u001B[0m \u001B[0mModality\u001B[0m\u001B[0;34m.\u001B[0m\u001B[0mCORE\u001B[0m\u001B[0;34m:\u001B[0m\u001B[0;34m\u001B[0m\u001B[0;34m\u001B[0m\u001B[0m\n\u001B[0;32m-> 1066\u001B[0;31m     \u001B[0;32mreturn\u001B[0m \u001B[0m_tf_core_map_structure\u001B[0m\u001B[0;34m(\u001B[0m\u001B[0mfunc\u001B[0m\u001B[0;34m,\u001B[0m \u001B[0;34m*\u001B[0m\u001B[0mstructure\u001B[0m\u001B[0;34m,\u001B[0m \u001B[0;34m**\u001B[0m\u001B[0mkwargs\u001B[0m\u001B[0;34m)\u001B[0m\u001B[0;34m\u001B[0m\u001B[0;34m\u001B[0m\u001B[0m\n\u001B[0m\u001B[1;32m   1067\u001B[0m   \u001B[0;32melif\u001B[0m \u001B[0mmodality\u001B[0m \u001B[0;34m==\u001B[0m \u001B[0mModality\u001B[0m\u001B[0;34m.\u001B[0m\u001B[0mDATA\u001B[0m\u001B[0;34m:\u001B[0m\u001B[0;34m\u001B[0m\u001B[0;34m\u001B[0m\u001B[0m\n\u001B[1;32m   1068\u001B[0m     \u001B[0;32mreturn\u001B[0m \u001B[0m_tf_data_map_structure\u001B[0m\u001B[0;34m(\u001B[0m\u001B[0mfunc\u001B[0m\u001B[0;34m,\u001B[0m \u001B[0;34m*\u001B[0m\u001B[0mstructure\u001B[0m\u001B[0;34m,\u001B[0m \u001B[0;34m**\u001B[0m\u001B[0mkwargs\u001B[0m\u001B[0;34m)\u001B[0m\u001B[0;34m\u001B[0m\u001B[0;34m\u001B[0m\u001B[0m\n",
      "\u001B[0;32m/usr/local/lib/python3.10/dist-packages/tensorflow/python/util/nest_util.py\u001B[0m in \u001B[0;36m_tf_core_map_structure\u001B[0;34m(func, *structure, **kwargs)\u001B[0m\n\u001B[1;32m   1104\u001B[0m   return _tf_core_pack_sequence_as(\n\u001B[1;32m   1105\u001B[0m       \u001B[0mstructure\u001B[0m\u001B[0;34m[\u001B[0m\u001B[0;36m0\u001B[0m\u001B[0;34m]\u001B[0m\u001B[0;34m,\u001B[0m\u001B[0;34m\u001B[0m\u001B[0;34m\u001B[0m\u001B[0m\n\u001B[0;32m-> 1106\u001B[0;31m       \u001B[0;34m[\u001B[0m\u001B[0mfunc\u001B[0m\u001B[0;34m(\u001B[0m\u001B[0;34m*\u001B[0m\u001B[0mx\u001B[0m\u001B[0;34m)\u001B[0m \u001B[0;32mfor\u001B[0m \u001B[0mx\u001B[0m \u001B[0;32min\u001B[0m \u001B[0mentries\u001B[0m\u001B[0;34m]\u001B[0m\u001B[0;34m,\u001B[0m\u001B[0;34m\u001B[0m\u001B[0;34m\u001B[0m\u001B[0m\n\u001B[0m\u001B[1;32m   1107\u001B[0m       \u001B[0mexpand_composites\u001B[0m\u001B[0;34m=\u001B[0m\u001B[0mexpand_composites\u001B[0m\u001B[0;34m,\u001B[0m\u001B[0;34m\u001B[0m\u001B[0;34m\u001B[0m\u001B[0m\n\u001B[1;32m   1108\u001B[0m   )\n",
      "\u001B[0;32m/usr/local/lib/python3.10/dist-packages/tensorflow/python/util/nest_util.py\u001B[0m in \u001B[0;36m<listcomp>\u001B[0;34m(.0)\u001B[0m\n\u001B[1;32m   1104\u001B[0m   return _tf_core_pack_sequence_as(\n\u001B[1;32m   1105\u001B[0m       \u001B[0mstructure\u001B[0m\u001B[0;34m[\u001B[0m\u001B[0;36m0\u001B[0m\u001B[0;34m]\u001B[0m\u001B[0;34m,\u001B[0m\u001B[0;34m\u001B[0m\u001B[0;34m\u001B[0m\u001B[0m\n\u001B[0;32m-> 1106\u001B[0;31m       \u001B[0;34m[\u001B[0m\u001B[0mfunc\u001B[0m\u001B[0;34m(\u001B[0m\u001B[0;34m*\u001B[0m\u001B[0mx\u001B[0m\u001B[0;34m)\u001B[0m \u001B[0;32mfor\u001B[0m \u001B[0mx\u001B[0m \u001B[0;32min\u001B[0m \u001B[0mentries\u001B[0m\u001B[0;34m]\u001B[0m\u001B[0;34m,\u001B[0m\u001B[0;34m\u001B[0m\u001B[0;34m\u001B[0m\u001B[0m\n\u001B[0m\u001B[1;32m   1107\u001B[0m       \u001B[0mexpand_composites\u001B[0m\u001B[0;34m=\u001B[0m\u001B[0mexpand_composites\u001B[0m\u001B[0;34m,\u001B[0m\u001B[0;34m\u001B[0m\u001B[0;34m\u001B[0m\u001B[0m\n\u001B[1;32m   1108\u001B[0m   )\n",
      "\u001B[0;32m/usr/local/lib/python3.10/dist-packages/keras/src/utils/tf_utils.py\u001B[0m in \u001B[0;36m_to_single_numpy_or_python_type\u001B[0;34m(t)\u001B[0m\n\u001B[1;32m    685\u001B[0m         \u001B[0;31m# Don't turn ragged or sparse tensors to NumPy.\u001B[0m\u001B[0;34m\u001B[0m\u001B[0;34m\u001B[0m\u001B[0m\n\u001B[1;32m    686\u001B[0m         \u001B[0;32mif\u001B[0m \u001B[0misinstance\u001B[0m\u001B[0;34m(\u001B[0m\u001B[0mt\u001B[0m\u001B[0;34m,\u001B[0m \u001B[0mtf\u001B[0m\u001B[0;34m.\u001B[0m\u001B[0mTensor\u001B[0m\u001B[0;34m)\u001B[0m\u001B[0;34m:\u001B[0m\u001B[0;34m\u001B[0m\u001B[0;34m\u001B[0m\u001B[0m\n\u001B[0;32m--> 687\u001B[0;31m             \u001B[0mt\u001B[0m \u001B[0;34m=\u001B[0m \u001B[0mt\u001B[0m\u001B[0;34m.\u001B[0m\u001B[0mnumpy\u001B[0m\u001B[0;34m(\u001B[0m\u001B[0;34m)\u001B[0m\u001B[0;34m\u001B[0m\u001B[0;34m\u001B[0m\u001B[0m\n\u001B[0m\u001B[1;32m    688\u001B[0m         \u001B[0;31m# Strings, ragged and sparse tensors don't have .item(). Return them\u001B[0m\u001B[0;34m\u001B[0m\u001B[0;34m\u001B[0m\u001B[0m\n\u001B[1;32m    689\u001B[0m         \u001B[0;31m# as-is.\u001B[0m\u001B[0;34m\u001B[0m\u001B[0;34m\u001B[0m\u001B[0m\n",
      "\u001B[0;32m/usr/local/lib/python3.10/dist-packages/tensorflow/python/framework/ops.py\u001B[0m in \u001B[0;36mnumpy\u001B[0;34m(self)\u001B[0m\n\u001B[1;32m    392\u001B[0m     \"\"\"\n\u001B[1;32m    393\u001B[0m     \u001B[0;31m# TODO(slebedev): Consider avoiding a copy for non-CPU or remote tensors.\u001B[0m\u001B[0;34m\u001B[0m\u001B[0;34m\u001B[0m\u001B[0m\n\u001B[0;32m--> 394\u001B[0;31m     \u001B[0mmaybe_arr\u001B[0m \u001B[0;34m=\u001B[0m \u001B[0mself\u001B[0m\u001B[0;34m.\u001B[0m\u001B[0m_numpy\u001B[0m\u001B[0;34m(\u001B[0m\u001B[0;34m)\u001B[0m  \u001B[0;31m# pylint: disable=protected-access\u001B[0m\u001B[0;34m\u001B[0m\u001B[0;34m\u001B[0m\u001B[0m\n\u001B[0m\u001B[1;32m    395\u001B[0m     \u001B[0;32mreturn\u001B[0m \u001B[0mmaybe_arr\u001B[0m\u001B[0;34m.\u001B[0m\u001B[0mcopy\u001B[0m\u001B[0;34m(\u001B[0m\u001B[0;34m)\u001B[0m \u001B[0;32mif\u001B[0m \u001B[0misinstance\u001B[0m\u001B[0;34m(\u001B[0m\u001B[0mmaybe_arr\u001B[0m\u001B[0;34m,\u001B[0m \u001B[0mnp\u001B[0m\u001B[0;34m.\u001B[0m\u001B[0mndarray\u001B[0m\u001B[0;34m)\u001B[0m \u001B[0;32melse\u001B[0m \u001B[0mmaybe_arr\u001B[0m\u001B[0;34m\u001B[0m\u001B[0;34m\u001B[0m\u001B[0m\n\u001B[1;32m    396\u001B[0m \u001B[0;34m\u001B[0m\u001B[0m\n",
      "\u001B[0;32m/usr/local/lib/python3.10/dist-packages/tensorflow/python/framework/ops.py\u001B[0m in \u001B[0;36m_numpy\u001B[0;34m(self)\u001B[0m\n\u001B[1;32m    358\u001B[0m   \u001B[0;32mdef\u001B[0m \u001B[0m_numpy\u001B[0m\u001B[0;34m(\u001B[0m\u001B[0mself\u001B[0m\u001B[0;34m)\u001B[0m\u001B[0;34m:\u001B[0m\u001B[0;34m\u001B[0m\u001B[0;34m\u001B[0m\u001B[0m\n\u001B[1;32m    359\u001B[0m     \u001B[0;32mtry\u001B[0m\u001B[0;34m:\u001B[0m\u001B[0;34m\u001B[0m\u001B[0;34m\u001B[0m\u001B[0m\n\u001B[0;32m--> 360\u001B[0;31m       \u001B[0;32mreturn\u001B[0m \u001B[0mself\u001B[0m\u001B[0;34m.\u001B[0m\u001B[0m_numpy_internal\u001B[0m\u001B[0;34m(\u001B[0m\u001B[0;34m)\u001B[0m\u001B[0;34m\u001B[0m\u001B[0;34m\u001B[0m\u001B[0m\n\u001B[0m\u001B[1;32m    361\u001B[0m     \u001B[0;32mexcept\u001B[0m \u001B[0mcore\u001B[0m\u001B[0;34m.\u001B[0m\u001B[0m_NotOkStatusException\u001B[0m \u001B[0;32mas\u001B[0m \u001B[0me\u001B[0m\u001B[0;34m:\u001B[0m  \u001B[0;31m# pylint: disable=protected-access\u001B[0m\u001B[0;34m\u001B[0m\u001B[0;34m\u001B[0m\u001B[0m\n\u001B[1;32m    362\u001B[0m       \u001B[0;32mraise\u001B[0m \u001B[0mcore\u001B[0m\u001B[0;34m.\u001B[0m\u001B[0m_status_to_exception\u001B[0m\u001B[0;34m(\u001B[0m\u001B[0me\u001B[0m\u001B[0;34m)\u001B[0m \u001B[0;32mfrom\u001B[0m \u001B[0;32mNone\u001B[0m  \u001B[0;31m# pylint: disable=protected-access\u001B[0m\u001B[0;34m\u001B[0m\u001B[0;34m\u001B[0m\u001B[0m\n",
      "\u001B[0;31mKeyboardInterrupt\u001B[0m: "
     ]
    }
   ],
   "source": [
    "history = model.fit(train_data,\n",
    "                    validation_data=valid_data,\n",
    "                    callbacks=[lr_scheduler,checkpoint],\n",
    "                    epochs=200)\n",
    "\n",
    "test_loss, test_accuracy, auc = model.evaluate(test_data)\n",
    "print(\"Test Loss:\", test_loss)\n",
    "print(\"Test Accuracy:\", test_accuracy)\n",
    "print(\"Test AUC:\", auc)"
   ]
  },
  {
   "cell_type": "markdown",
   "metadata": {
    "id": "friHpYo1BNIh"
   },
   "source": [
    "# Model Evaluation"
   ]
  },
  {
   "cell_type": "code",
   "execution_count": null,
   "metadata": {
    "id": "Y4ioD8NKxZ8y"
   },
   "outputs": [],
   "source": [
    "from tensorflow.keras.models import load_model\n",
    "\n",
    "model_path = '/content/drive/MyDrive/ABELE_prostate/claudio/black_box/models/best_model_auc.h5'\n",
    "model = load_model(model_path, compile=False)"
   ]
  },
  {
   "cell_type": "code",
   "execution_count": null,
   "metadata": {
    "colab": {
     "base_uri": "https://localhost:8080/"
    },
    "executionInfo": {
     "elapsed": 20886,
     "status": "ok",
     "timestamp": 1700150767026,
     "user": {
      "displayName": "claudio giovannoni",
      "userId": "16814477495340547867"
     },
     "user_tz": -60
    },
    "id": "x9n3isTnv9Wb",
    "outputId": "df564881-59e1-411c-ebaa-899c9a14d708"
   },
   "outputs": [
    {
     "name": "stdout",
     "output_type": "stream",
     "text": [
      "700/700 [==============================] - 8s 11ms/step\n",
      "Validation\n",
      "               precision    recall  f1-score   support\n",
      "\n",
      "     Class 0       0.82      0.64      0.72       497\n",
      "     Class 1       0.42      0.66      0.51       203\n",
      "\n",
      "    accuracy                           0.64       700\n",
      "   macro avg       0.62      0.65      0.62       700\n",
      "weighted avg       0.70      0.64      0.66       700\n",
      "\n",
      "703/703 [==============================] - 6s 9ms/step\n",
      "Test\n",
      "               precision    recall  f1-score   support\n",
      "\n",
      "     Class 0       0.83      0.56      0.67       502\n",
      "     Class 1       0.40      0.71      0.51       201\n",
      "\n",
      "    accuracy                           0.61       703\n",
      "   macro avg       0.61      0.64      0.59       703\n",
      "weighted avg       0.71      0.61      0.62       703\n",
      "\n"
     ]
    }
   ],
   "source": [
    "from sklearn.metrics import classification_report\n",
    "import numpy as np\n",
    "\n",
    "data_list = [(valid_data, y_valid), (test_data, y_test)]\n",
    "for data in data_list:\n",
    "    # Predict on the dataset using the model\n",
    "    predictions = model.predict(data[0])\n",
    "    predicted_labels = np.round(predictions).astype(int)\n",
    "    # Generate the classification report\n",
    "    report = classification_report(data[1],\n",
    "                                    predicted_labels,\n",
    "                                    target_names=['Class 0', 'Class 1'])\n",
    "    if data == data_list[0]:\n",
    "        print('\\nValidation\\n', report)\n",
    "    else:\n",
    "        print('\\nTest\\n', report)"
   ]
  },
  {
   "cell_type": "code",
   "execution_count": null,
   "metadata": {
    "id": "fbSZLz9DA80m"
   },
   "outputs": [],
   "source": [
    "model_training_utils.plot_roc_auc(test_data,valid_data)"
   ]
  },
  {
   "cell_type": "code",
   "execution_count": null,
   "metadata": {
    "id": "LXQK0uAdDSAW"
   },
   "outputs": [],
   "source": []
  },
  {
   "cell_type": "code",
   "execution_count": null,
   "metadata": {
    "colab": {
     "base_uri": "https://localhost:8080/",
     "height": 600
    },
    "executionInfo": {
     "elapsed": 13553,
     "status": "ok",
     "timestamp": 1700150959423,
     "user": {
      "displayName": "claudio giovannoni",
      "userId": "16814477495340547867"
     },
     "user_tz": -60
    },
    "id": "OpJx7pSQx_NG",
    "outputId": "de4bd734-0729-4e92-9c71-520193f7789f"
   },
   "outputs": [
    {
     "name": "stdout",
     "output_type": "stream",
     "text": [
      "703/703 [==============================] - 6s 9ms/step\n",
      "700/700 [==============================] - 5s 7ms/step\n"
     ]
    },
    {
     "data": {
      "image/png": "[encoded data removed]",
      "text/plain": [
       "<Figure size 800x600 with 1 Axes>"
      ]
     },
     "metadata": {},
     "output_type": "display_data"
    }
   ],
   "source": [
    "from sklearn.metrics import roc_curve, auc\n",
    "import matplotlib.pyplot as plt\n",
    "\n",
    "# Make predictions on the test and validation sets\n",
    "predicted_probs_te = model.predict(test_data)\n",
    "predicted_probs_val = model.predict(valid_data)\n",
    "\n",
    "# Calculate ROC curve and AUC for test set\n",
    "fpr_te, tpr_te, thresholds_te = roc_curve(y_test, predicted_probs_te)\n",
    "roc_auc_te = auc(fpr_te, tpr_te)\n",
    "\n",
    "# Calculate ROC curve and AUC for validation set\n",
    "fpr_val, tpr_val, thresholds_val = roc_curve(y_valid, predicted_probs_val)\n",
    "roc_auc_val = auc(fpr_val, tpr_val)\n",
    "\n",
    "# Plot ROC curve for both test and validation sets\n",
    "plt.figure(figsize=(8, 6))\n",
    "\n",
    "plt.plot(fpr_te, tpr_te, color='darkorange', lw=2, label=f'Test (AUC = {roc_auc_te:.2f})')\n",
    "plt.plot(fpr_val, tpr_val, color='navy', lw=2, label=f'Validation (AUC = {roc_auc_val:.2f})')\n",
    "\n",
    "plt.plot([0, 1], [0, 1], color='black', lw=2, linestyle='--')\n",
    "plt.xlim([0.0, 1.0])\n",
    "plt.ylim([0.0, 1.05])\n",
    "plt.xlabel('False Positive Rate')\n",
    "plt.ylabel('True Positive Rate')\n",
    "plt.title('Receiver Operating Characteristic (ROC) Curve')\n",
    "plt.legend(loc='lower right')\n",
    "plt.show()"
   ]
  },
  {
   "cell_type": "code",
   "execution_count": null,
   "metadata": {
    "colab": {
     "base_uri": "https://localhost:8080/",
     "height": 487
    },
    "executionInfo": {
     "elapsed": 1749,
     "status": "ok",
     "timestamp": 1700149408547,
     "user": {
      "displayName": "claudio giovannoni",
      "userId": "16814477495340547867"
     },
     "user_tz": -60
    },
    "id": "EZj-D2Fatl1n",
    "outputId": "92fcfd6c-3b79-4c8a-8afb-86ef472876fc"
   },
   "outputs": [
    {
     "data": {
      "image/png": "[encoded data removed]",
      "text/plain": [
       "<Figure size 500x500 with 2 Axes>"
      ]
     },
     "metadata": {},
     "output_type": "display_data"
    }
   ],
   "source": [
    "from sklearn.metrics import confusion_matrix\n",
    "import seaborn as sns\n",
    "\n",
    "# Make predictions on the test set\n",
    "predicted_labels = (predicted_probs > 0.5).astype(int)  # Assuming binary classification with a threshold of 0.5\n",
    "\n",
    "# Calculate the confusion matrix\n",
    "conf_matrix = confusion_matrix(y_valid, predicted_labels)\n",
    "\n",
    "# Create a heatmap of the confusion matrix\n",
    "plt.figure(figsize=(5, 5))\n",
    "sns.heatmap(conf_matrix, annot=True, fmt='d', cmap='Blues',\n",
    "            xticklabels=['Predicted 0', 'Predicted 1'],\n",
    "            yticklabels=['True 0', 'True 1'])\n",
    "plt.xlabel('Predicted Labels')\n",
    "plt.ylabel('True Labels')\n",
    "plt.title('Confusion Matrix')\n",
    "plt.show()"
   ]
  },
  {
   "cell_type": "code",
   "execution_count": null,
   "metadata": {
    "colab": {
     "base_uri": "https://localhost:8080/",
     "height": 607
    },
    "executionInfo": {
     "elapsed": 434,
     "status": "error",
     "timestamp": 1700149429628,
     "user": {
      "displayName": "claudio giovannoni",
      "userId": "16814477495340547867"
     },
     "user_tz": -60
    },
    "id": "TpxkFuvszoP9",
    "outputId": "846efe58-c182-4606-eeea-2772fcce80ad"
   },
   "outputs": [
    {
     "ename": "NameError",
     "evalue": "ignored",
     "output_type": "error",
     "traceback": [
      "\u001B[0;31m---------------------------------------------------------------------------\u001B[0m",
      "\u001B[0;31mNameError\u001B[0m                                 Traceback (most recent call last)",
      "\u001B[0;32m<ipython-input-14-35aff6f98853>\u001B[0m in \u001B[0;36m<cell line: 3>\u001B[0;34m()\u001B[0m\n\u001B[1;32m      1\u001B[0m \u001B[0mfig\u001B[0m\u001B[0;34m,\u001B[0m \u001B[0maxs\u001B[0m \u001B[0;34m=\u001B[0m \u001B[0mplt\u001B[0m\u001B[0;34m.\u001B[0m\u001B[0msubplots\u001B[0m\u001B[0;34m(\u001B[0m\u001B[0mnrows\u001B[0m\u001B[0;34m=\u001B[0m\u001B[0;36m1\u001B[0m\u001B[0;34m,\u001B[0m \u001B[0mncols\u001B[0m\u001B[0;34m=\u001B[0m\u001B[0;36m3\u001B[0m\u001B[0;34m,\u001B[0m \u001B[0mfigsize\u001B[0m\u001B[0;34m=\u001B[0m\u001B[0;34m(\u001B[0m\u001B[0;36m18\u001B[0m\u001B[0;34m,\u001B[0m \u001B[0;36m4\u001B[0m\u001B[0;34m)\u001B[0m\u001B[0;34m)\u001B[0m\u001B[0;34m\u001B[0m\u001B[0;34m\u001B[0m\u001B[0m\n\u001B[1;32m      2\u001B[0m \u001B[0;34m\u001B[0m\u001B[0m\n\u001B[0;32m----> 3\u001B[0;31m \u001B[0maxs\u001B[0m\u001B[0;34m[\u001B[0m\u001B[0;36m0\u001B[0m\u001B[0;34m]\u001B[0m\u001B[0;34m.\u001B[0m\u001B[0mplot\u001B[0m\u001B[0;34m(\u001B[0m\u001B[0mhistory\u001B[0m\u001B[0;34m.\u001B[0m\u001B[0mhistory\u001B[0m\u001B[0;34m[\u001B[0m\u001B[0;34m'loss'\u001B[0m\u001B[0;34m]\u001B[0m\u001B[0;34m,\u001B[0m \u001B[0mlabel\u001B[0m\u001B[0;34m=\u001B[0m\u001B[0;34m'Train'\u001B[0m\u001B[0;34m)\u001B[0m\u001B[0;34m\u001B[0m\u001B[0;34m\u001B[0m\u001B[0m\n\u001B[0m\u001B[1;32m      4\u001B[0m \u001B[0maxs\u001B[0m\u001B[0;34m[\u001B[0m\u001B[0;36m0\u001B[0m\u001B[0;34m]\u001B[0m\u001B[0;34m.\u001B[0m\u001B[0mplot\u001B[0m\u001B[0;34m(\u001B[0m\u001B[0mhistory\u001B[0m\u001B[0;34m.\u001B[0m\u001B[0mhistory\u001B[0m\u001B[0;34m[\u001B[0m\u001B[0;34m'val_loss'\u001B[0m\u001B[0;34m]\u001B[0m\u001B[0;34m,\u001B[0m \u001B[0mlabel\u001B[0m\u001B[0;34m=\u001B[0m\u001B[0;34m'Validation'\u001B[0m\u001B[0;34m)\u001B[0m\u001B[0;34m\u001B[0m\u001B[0;34m\u001B[0m\u001B[0m\n\u001B[1;32m      5\u001B[0m \u001B[0maxs\u001B[0m\u001B[0;34m[\u001B[0m\u001B[0;36m0\u001B[0m\u001B[0;34m]\u001B[0m\u001B[0;34m.\u001B[0m\u001B[0mset_ylabel\u001B[0m\u001B[0;34m(\u001B[0m\u001B[0;34m'Categorical Cross Entropy Loss'\u001B[0m\u001B[0;34m)\u001B[0m\u001B[0;34m\u001B[0m\u001B[0;34m\u001B[0m\u001B[0m\n",
      "\u001B[0;31mNameError\u001B[0m: name 'history' is not defined"
     ]
    },
    {
     "data": {
      "image/png": "[encoded data removed]",
      "text/plain": [
       "<Figure size 1800x400 with 3 Axes>"
      ]
     },
     "metadata": {},
     "output_type": "display_data"
    }
   ],
   "source": [
    "fig, axs = plt.subplots(nrows=1, ncols=3, figsize=(18, 4))\n",
    "\n",
    "axs[0].plot(history.history['loss'], label='Train')\n",
    "axs[0].plot(history.history['val_loss'], label='Validation')\n",
    "axs[0].set_ylabel('Categorical Cross Entropy Loss')\n",
    "axs[0].set_xlabel('Epoch')\n",
    "axs[0].legend(loc='best')\n",
    "\n",
    "axs[1].plot(history.history['accuracy'], label='Train')\n",
    "axs[1].plot(history.history['val_accuracy'], label='Validation')\n",
    "axs[1].set_ylabel('Accuracy')\n",
    "axs[1].set_xlabel('Epoch')\n",
    "axs[1].legend(loc='best')\n",
    "\n",
    "axs[2].plot(history.history['auc'], label='Train AUC')\n",
    "axs[2].plot(history.history['val_auc'], label='Validation AUC')\n",
    "axs[2].set_ylabel('AUC Score')\n",
    "axs[2].set_xlabel('Epoch')\n",
    "axs[2].legend(loc='best')\n",
    "\n",
    "plt.show()"
   ]
  }
 ],
 "metadata": {
  "accelerator": "GPU",
  "colab": {
   "provenance": [
    {
     "file_id": "1-bf8xngn7vrzJYdfNR8c1-lBHqkeejj8",
     "timestamp": 1693486651100
    }
   ]
  },
  "kernelspec": {
   "display_name": "Python 3",
   "name": "python3"
  },
  "language_info": {
   "name": "python"
  }
 },
 "nbformat": 4,
 "nbformat_minor": 0
}
